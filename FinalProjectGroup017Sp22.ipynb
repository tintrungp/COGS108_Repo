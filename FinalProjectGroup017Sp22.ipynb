{
 "cells": [
  {
   "cell_type": "markdown",
   "metadata": {},
   "source": [
    "# COGS 108 - Final Project (change this to your project's title)"
   ]
  },
  {
   "cell_type": "markdown",
   "metadata": {},
   "source": [
    "## Permissions\n",
    "\n",
    "Place an `X` in the appropriate bracket below to specify if you would like your group's project to be made available to the public. (Note that student names will be included (but PIDs will be scraped from any groups who include their PIDs).\n",
    "\n",
    "* [  ] YES - make available\n",
    "* [  ] NO - keep private"
   ]
  },
  {
   "cell_type": "markdown",
   "metadata": {},
   "source": [
    "# Overview"
   ]
  },
  {
   "cell_type": "markdown",
   "metadata": {},
   "source": [
    "*Fill in your overview here*"
   ]
  },
  {
   "cell_type": "markdown",
   "metadata": {},
   "source": [
    "# Names\n",
    "\n",
    "- Nilou Shahbandi\n",
    "- Leonardo Gonzalez\n",
    "- Brian Chen\n",
    "- Tin-Trung Pham\n",
    "- Zhongkang(ken) Fang"
   ]
  },
  {
   "cell_type": "markdown",
   "metadata": {},
   "source": [
    "<a id='research_question'></a>\n",
    "# Research Question"
   ]
  },
  {
   "cell_type": "markdown",
   "metadata": {},
   "source": [
    "*Fill in your research question here*"
   ]
  },
  {
   "cell_type": "markdown",
   "metadata": {},
   "source": [
    "<a id='background'></a>\n",
    "\n",
    "## Background & Prior Work"
   ]
  },
  {
   "cell_type": "markdown",
   "metadata": {},
   "source": [
    "*Fill in your background and prior work here* \n",
    "\n",
    "References (include links):\n",
    "- 1)\n",
    "- 2)"
   ]
  },
  {
   "cell_type": "markdown",
   "metadata": {},
   "source": [
    "# Hypothesis\n"
   ]
  },
  {
   "cell_type": "markdown",
   "metadata": {},
   "source": [
    "*Fill in your hypotheses here*"
   ]
  },
  {
   "cell_type": "markdown",
   "metadata": {},
   "source": [
    "# Dataset(s)"
   ]
  },
  {
   "cell_type": "markdown",
   "metadata": {},
   "source": [
    "### *Dataset 1*\n",
    "\n",
    "(Copy this information for each dataset)\n",
    "- Dataset Name: annual_aqi_by_county_2010\n",
    "- Link to the dataset: https://aqs.epa.gov/aqsweb/airdata/download_files.html\n",
    "- Number of observations: 999\n",
    "\n",
    "\n",
    "- data contains AQI, calculated each day for each monitor for the Criteria Gases and PM10 and PM2.5 (FRM and non FRM).\n",
    "- of Days CO, NO2, Ozone, SO2, PM2.5, PM10 where the daily monitor criteria were met.\n",
    "\n",
    "- We extract the year of 2010 from the cancer data and merge with this data.\n",
    "- We will also add more years differentiate by colums and merge with cancer data which already have different years.\n",
    "\n",
    "\n",
    "### *Dataset 2*\n",
    "\n",
    "(Copy this information for each dataset)\n",
    "- Dataset Name: Lung and Bronchus Cancer Incidence in California\n",
    "- Link to the dataset:[California Cancer Registry](https://explorer.ccrcal.org/application.html?site=47&data_type=1&graph_type=13&compareBy=sex&chk_sex_1=1&race=1&age_range=9&hdn_stage=101&year=4&advopt_precision=4&advopt_display=2#tableWrap)\n",
    "- Number of observations: 9306\n",
    "- 2010 - 2018\n",
    "\n",
    "This data shows us the counts of lung or bronchus cancer in individuals of all races and sexes by county in California. It also includes breakdowns by age with additional statistics regarding the data.\n",
    "\n",
    "We plan to use this data in combination with the pollution data to track the impact of pollution on lung or bronchus cancer indcidents in individuals living in California. By comparing changes in pollution with changes in cancer incident counts.\n",
    "\n",
    "\n",
    "### *Dataset 3*\n",
    "\n",
    "(Copy this information for each dataset)\n",
    "- Dataset Name: \n",
    "- Link to the dataset:\n",
    "- Number of observations:\n",
    "\n",
    "#### Description:\n",
    "- \n",
    "\n",
    "\n",
    "#### If you plan to use multiple datasets, add 1-2 sentences about how you plan to combine these datasets.\n",
    "- "
   ]
  },
  {
   "cell_type": "markdown",
   "metadata": {},
   "source": [
    "# Setup"
   ]
  },
  {
   "cell_type": "code",
   "execution_count": 1,
   "metadata": {},
   "outputs": [],
   "source": [
    "## YOUR CODE HERE\n",
    "import pandas as pd \n",
    "import numpy as np\n",
    "import matplotlib.pyplot as plt\n",
    "import matplotlib.style as style\n",
    "import seaborn as sns\n",
    "\n",
    "aqi_2010 = pd.read_csv('data/aqireport2010.csv')\n",
    "county_cancer = pd.read_csv('data/countyCancer.csv')\n",
    "asthma = pd.read_csv('data/Asthma.csv')"
   ]
  },
  {
   "cell_type": "markdown",
   "metadata": {},
   "source": [
    "# Data Cleaning"
   ]
  },
  {
   "cell_type": "markdown",
   "metadata": {},
   "source": [
    "Describe your data cleaning steps here."
   ]
  },
  {
   "cell_type": "code",
   "execution_count": 2,
   "metadata": {},
   "outputs": [
    {
     "data": {
      "text/html": [
       "<div>\n",
       "<style scoped>\n",
       "    .dataframe tbody tr th:only-of-type {\n",
       "        vertical-align: middle;\n",
       "    }\n",
       "\n",
       "    .dataframe tbody tr th {\n",
       "        vertical-align: top;\n",
       "    }\n",
       "\n",
       "    .dataframe thead th {\n",
       "        text-align: right;\n",
       "    }\n",
       "</style>\n",
       "<table border=\"1\" class=\"dataframe\">\n",
       "  <thead>\n",
       "    <tr style=\"text-align: right;\">\n",
       "      <th></th>\n",
       "      <th>State</th>\n",
       "      <th>ChildCount</th>\n",
       "      <th>Percent</th>\n",
       "      <th>Year</th>\n",
       "      <th>AdultCount</th>\n",
       "      <th>Percent.1</th>\n",
       "    </tr>\n",
       "  </thead>\n",
       "  <tbody>\n",
       "    <tr>\n",
       "      <th>0</th>\n",
       "      <td>Alabama</td>\n",
       "      <td>141,500</td>\n",
       "      <td>13.20%</td>\n",
       "      <td>2014.0</td>\n",
       "      <td>394,600</td>\n",
       "      <td>10.50%</td>\n",
       "    </tr>\n",
       "    <tr>\n",
       "      <th>1</th>\n",
       "      <td>Alaska</td>\n",
       "      <td>---</td>\n",
       "      <td>---</td>\n",
       "      <td>NaN</td>\n",
       "      <td>50,700</td>\n",
       "      <td>9.20%</td>\n",
       "    </tr>\n",
       "    <tr>\n",
       "      <th>2</th>\n",
       "      <td>Arizona</td>\n",
       "      <td>129,200</td>\n",
       "      <td>8.10%</td>\n",
       "      <td>2016.0</td>\n",
       "      <td>545,100</td>\n",
       "      <td>10.00%</td>\n",
       "    </tr>\n",
       "    <tr>\n",
       "      <th>3</th>\n",
       "      <td>Arkansas</td>\n",
       "      <td>---</td>\n",
       "      <td>---</td>\n",
       "      <td>NaN</td>\n",
       "      <td>225,900</td>\n",
       "      <td>9.80%</td>\n",
       "    </tr>\n",
       "    <tr>\n",
       "      <th>4</th>\n",
       "      <td>California</td>\n",
       "      <td>542,700</td>\n",
       "      <td>6.20%</td>\n",
       "      <td>NaN</td>\n",
       "      <td>2,607,600</td>\n",
       "      <td>8.50%</td>\n",
       "    </tr>\n",
       "  </tbody>\n",
       "</table>\n",
       "</div>"
      ],
      "text/plain": [
       "        State ChildCount Percent    Year AdultCount Percent.1\n",
       "0     Alabama    141,500  13.20%  2014.0    394,600    10.50%\n",
       "1      Alaska        ---     ---     NaN     50,700     9.20%\n",
       "2     Arizona    129,200   8.10%  2016.0    545,100    10.00%\n",
       "3    Arkansas        ---     ---     NaN    225,900     9.80%\n",
       "4  California    542,700   6.20%     NaN  2,607,600     8.50%"
      ]
     },
     "execution_count": 2,
     "metadata": {},
     "output_type": "execute_result"
    }
   ],
   "source": [
    "## YOUR CODE HERE\n",
    "## FEEL FREE TO ADD MULTIPLE CELLS PER SECTION\n",
    "asthma.head()"
   ]
  },
  {
   "cell_type": "code",
   "execution_count": 3,
   "metadata": {},
   "outputs": [
    {
     "data": {
      "text/html": [
       "<div>\n",
       "<style scoped>\n",
       "    .dataframe tbody tr th:only-of-type {\n",
       "        vertical-align: middle;\n",
       "    }\n",
       "\n",
       "    .dataframe tbody tr th {\n",
       "        vertical-align: top;\n",
       "    }\n",
       "\n",
       "    .dataframe thead th {\n",
       "        text-align: right;\n",
       "    }\n",
       "</style>\n",
       "<table border=\"1\" class=\"dataframe\">\n",
       "  <thead>\n",
       "    <tr style=\"text-align: right;\">\n",
       "      <th></th>\n",
       "      <th>County Code</th>\n",
       "      <th>County</th>\n",
       "      <th># Days with AQI</th>\n",
       "      <th>Good</th>\n",
       "      <th>Moderate</th>\n",
       "      <th>Unhealthy for Sensitive Groups</th>\n",
       "      <th>Unhealthy</th>\n",
       "      <th>Very Unhealthy</th>\n",
       "      <th>Hazardous</th>\n",
       "      <th>AQI Maximum</th>\n",
       "      <th>AQI 90th Percentile</th>\n",
       "      <th>AQI Median</th>\n",
       "      <th># Days CO</th>\n",
       "      <th># Days NO2</th>\n",
       "      <th># Days O3</th>\n",
       "      <th># Days PM2.5</th>\n",
       "      <th># Days PM10</th>\n",
       "    </tr>\n",
       "  </thead>\n",
       "  <tbody>\n",
       "    <tr>\n",
       "      <th>0</th>\n",
       "      <td>6001</td>\n",
       "      <td>Alameda County, CA</td>\n",
       "      <td>365</td>\n",
       "      <td>245</td>\n",
       "      <td>115</td>\n",
       "      <td>4</td>\n",
       "      <td>1</td>\n",
       "      <td>.</td>\n",
       "      <td>.</td>\n",
       "      <td>179</td>\n",
       "      <td>68.0</td>\n",
       "      <td>43.0</td>\n",
       "      <td>.</td>\n",
       "      <td>24</td>\n",
       "      <td>135</td>\n",
       "      <td>206</td>\n",
       "      <td>.</td>\n",
       "    </tr>\n",
       "    <tr>\n",
       "      <th>1</th>\n",
       "      <td>6005</td>\n",
       "      <td>Amador County, CA</td>\n",
       "      <td>361</td>\n",
       "      <td>302</td>\n",
       "      <td>48</td>\n",
       "      <td>10</td>\n",
       "      <td>1</td>\n",
       "      <td>.</td>\n",
       "      <td>.</td>\n",
       "      <td>151</td>\n",
       "      <td>64.0</td>\n",
       "      <td>35.0</td>\n",
       "      <td>.</td>\n",
       "      <td>.</td>\n",
       "      <td>361</td>\n",
       "      <td>.</td>\n",
       "      <td>.</td>\n",
       "    </tr>\n",
       "    <tr>\n",
       "      <th>2</th>\n",
       "      <td>6007</td>\n",
       "      <td>Butte County, CA</td>\n",
       "      <td>365</td>\n",
       "      <td>208</td>\n",
       "      <td>144</td>\n",
       "      <td>13</td>\n",
       "      <td>.</td>\n",
       "      <td>.</td>\n",
       "      <td>.</td>\n",
       "      <td>126</td>\n",
       "      <td>84.0</td>\n",
       "      <td>47.0</td>\n",
       "      <td>.</td>\n",
       "      <td>.</td>\n",
       "      <td>264</td>\n",
       "      <td>101</td>\n",
       "      <td>.</td>\n",
       "    </tr>\n",
       "    <tr>\n",
       "      <th>3</th>\n",
       "      <td>6009</td>\n",
       "      <td>Calaveras County, CA</td>\n",
       "      <td>365</td>\n",
       "      <td>271</td>\n",
       "      <td>81</td>\n",
       "      <td>12</td>\n",
       "      <td>1</td>\n",
       "      <td>.</td>\n",
       "      <td>.</td>\n",
       "      <td>154</td>\n",
       "      <td>84.0</td>\n",
       "      <td>41.0</td>\n",
       "      <td>.</td>\n",
       "      <td>.</td>\n",
       "      <td>309</td>\n",
       "      <td>56</td>\n",
       "      <td>.</td>\n",
       "    </tr>\n",
       "    <tr>\n",
       "      <th>4</th>\n",
       "      <td>6011</td>\n",
       "      <td>Colusa County, CA</td>\n",
       "      <td>353</td>\n",
       "      <td>322</td>\n",
       "      <td>30</td>\n",
       "      <td>1</td>\n",
       "      <td>.</td>\n",
       "      <td>.</td>\n",
       "      <td>.</td>\n",
       "      <td>119</td>\n",
       "      <td>49.0</td>\n",
       "      <td>38.0</td>\n",
       "      <td>.</td>\n",
       "      <td>.</td>\n",
       "      <td>305</td>\n",
       "      <td>43</td>\n",
       "      <td>5</td>\n",
       "    </tr>\n",
       "  </tbody>\n",
       "</table>\n",
       "</div>"
      ],
      "text/plain": [
       "   County Code                County  # Days with AQI  Good Moderate  \\\n",
       "0         6001    Alameda County, CA              365   245      115   \n",
       "1         6005     Amador County, CA              361   302       48   \n",
       "2         6007      Butte County, CA              365   208      144   \n",
       "3         6009  Calaveras County, CA              365   271       81   \n",
       "4         6011     Colusa County, CA              353   322       30   \n",
       "\n",
       "  Unhealthy for Sensitive Groups Unhealthy Very Unhealthy Hazardous  \\\n",
       "0                              4         1              .         .   \n",
       "1                             10         1              .         .   \n",
       "2                             13         .              .         .   \n",
       "3                             12         1              .         .   \n",
       "4                              1         .              .         .   \n",
       "\n",
       "   AQI Maximum  AQI 90th Percentile  AQI Median # Days CO # Days NO2  \\\n",
       "0          179                 68.0        43.0         .         24   \n",
       "1          151                 64.0        35.0         .          .   \n",
       "2          126                 84.0        47.0         .          .   \n",
       "3          154                 84.0        41.0         .          .   \n",
       "4          119                 49.0        38.0         .          .   \n",
       "\n",
       "  # Days O3 # Days PM2.5 # Days PM10  \n",
       "0       135          206           .  \n",
       "1       361            .           .  \n",
       "2       264          101           .  \n",
       "3       309           56           .  \n",
       "4       305           43           5  "
      ]
     },
     "execution_count": 3,
     "metadata": {},
     "output_type": "execute_result"
    }
   ],
   "source": [
    "aqi_2010.head()"
   ]
  },
  {
   "cell_type": "code",
   "execution_count": 8,
   "metadata": {},
   "outputs": [
    {
     "data": {
      "text/html": [
       "<div>\n",
       "<style scoped>\n",
       "    .dataframe tbody tr th:only-of-type {\n",
       "        vertical-align: middle;\n",
       "    }\n",
       "\n",
       "    .dataframe tbody tr th {\n",
       "        vertical-align: top;\n",
       "    }\n",
       "\n",
       "    .dataframe thead th {\n",
       "        text-align: right;\n",
       "    }\n",
       "</style>\n",
       "<table border=\"1\" class=\"dataframe\">\n",
       "  <thead>\n",
       "    <tr style=\"text-align: right;\">\n",
       "      <th></th>\n",
       "      <th>Year</th>\n",
       "      <th>Sex</th>\n",
       "      <th>Race/Ethnicity</th>\n",
       "      <th>Age</th>\n",
       "      <th>California Region</th>\n",
       "      <th>Stage at Diagnosis</th>\n",
       "      <th>Age-adjusted Rate per 100,000</th>\n",
       "      <th>Age-adjusted Rate Standard Error</th>\n",
       "      <th>Age-adjusted Rate Lower Confidence Interval</th>\n",
       "      <th>Age-adjusted Rate Upper Confidence Interval</th>\n",
       "      <th>Count</th>\n",
       "    </tr>\n",
       "  </thead>\n",
       "  <tbody>\n",
       "    <tr>\n",
       "      <th>0</th>\n",
       "      <td>2010</td>\n",
       "      <td>Both Sexes</td>\n",
       "      <td>All Races</td>\n",
       "      <td>All Ages</td>\n",
       "      <td>Alameda County</td>\n",
       "      <td>All Stages</td>\n",
       "      <td>44.8118</td>\n",
       "      <td>1.8013</td>\n",
       "      <td>41.3504</td>\n",
       "      <td>48.4812</td>\n",
       "      <td>646</td>\n",
       "    </tr>\n",
       "    <tr>\n",
       "      <th>1</th>\n",
       "      <td>2010</td>\n",
       "      <td>Both Sexes</td>\n",
       "      <td>All Races</td>\n",
       "      <td>All Ages</td>\n",
       "      <td>Butte County</td>\n",
       "      <td>All Stages</td>\n",
       "      <td>63.0616</td>\n",
       "      <td>4.9021</td>\n",
       "      <td>53.8195</td>\n",
       "      <td>73.5358</td>\n",
       "      <td>171</td>\n",
       "    </tr>\n",
       "    <tr>\n",
       "      <th>2</th>\n",
       "      <td>2010</td>\n",
       "      <td>Both Sexes</td>\n",
       "      <td>All Races</td>\n",
       "      <td>All Ages</td>\n",
       "      <td>Contra Costa County</td>\n",
       "      <td>All Stages</td>\n",
       "      <td>50.2429</td>\n",
       "      <td>2.2114</td>\n",
       "      <td>46.0016</td>\n",
       "      <td>54.7691</td>\n",
       "      <td>536</td>\n",
       "    </tr>\n",
       "    <tr>\n",
       "      <th>3</th>\n",
       "      <td>2010</td>\n",
       "      <td>Both Sexes</td>\n",
       "      <td>All Races</td>\n",
       "      <td>All Ages</td>\n",
       "      <td>El Dorado County</td>\n",
       "      <td>All Stages</td>\n",
       "      <td>54.2364</td>\n",
       "      <td>4.9899</td>\n",
       "      <td>44.8983</td>\n",
       "      <td>65.1021</td>\n",
       "      <td>124</td>\n",
       "    </tr>\n",
       "    <tr>\n",
       "      <th>4</th>\n",
       "      <td>2010</td>\n",
       "      <td>Both Sexes</td>\n",
       "      <td>All Races</td>\n",
       "      <td>All Ages</td>\n",
       "      <td>Fresno County</td>\n",
       "      <td>All Stages</td>\n",
       "      <td>51.7782</td>\n",
       "      <td>2.6266</td>\n",
       "      <td>46.7576</td>\n",
       "      <td>57.1687</td>\n",
       "      <td>401</td>\n",
       "    </tr>\n",
       "  </tbody>\n",
       "</table>\n",
       "</div>"
      ],
      "text/plain": [
       "   Year         Sex Race/Ethnicity       Age    California Region  \\\n",
       "0  2010  Both Sexes      All Races  All Ages       Alameda County   \n",
       "1  2010  Both Sexes      All Races  All Ages         Butte County   \n",
       "2  2010  Both Sexes      All Races  All Ages  Contra Costa County   \n",
       "3  2010  Both Sexes      All Races  All Ages     El Dorado County   \n",
       "4  2010  Both Sexes      All Races  All Ages        Fresno County   \n",
       "\n",
       "  Stage at Diagnosis Age-adjusted Rate per 100,000  \\\n",
       "0         All Stages                       44.8118   \n",
       "1         All Stages                       63.0616   \n",
       "2         All Stages                       50.2429   \n",
       "3         All Stages                       54.2364   \n",
       "4         All Stages                       51.7782   \n",
       "\n",
       "  Age-adjusted Rate Standard Error  \\\n",
       "0                           1.8013   \n",
       "1                           4.9021   \n",
       "2                           2.2114   \n",
       "3                           4.9899   \n",
       "4                           2.6266   \n",
       "\n",
       "  Age-adjusted Rate Lower Confidence Interval  \\\n",
       "0                                     41.3504   \n",
       "1                                     53.8195   \n",
       "2                                     46.0016   \n",
       "3                                     44.8983   \n",
       "4                                     46.7576   \n",
       "\n",
       "  Age-adjusted Rate Upper Confidence Interval Count  \n",
       "0                                     48.4812   646  \n",
       "1                                     73.5358   171  \n",
       "2                                     54.7691   536  \n",
       "3                                     65.1021   124  \n",
       "4                                     57.1687   401  "
      ]
     },
     "execution_count": 8,
     "metadata": {},
     "output_type": "execute_result"
    }
   ],
   "source": [
    "county_cancer.head()"
   ]
  },
  {
   "cell_type": "markdown",
   "metadata": {},
   "source": [
    "# Data Analysis & Results"
   ]
  },
  {
   "cell_type": "markdown",
   "metadata": {},
   "source": [
    "Include cells that describe the steps in your data analysis."
   ]
  },
  {
   "cell_type": "code",
   "execution_count": 3,
   "metadata": {},
   "outputs": [],
   "source": [
    "## YOUR CODE HERE\n",
    "## FEEL FREE TO ADD MULTIPLE CELLS PER SECTION\n",
    "# Asthma"
   ]
  },
  {
   "cell_type": "code",
   "execution_count": null,
   "metadata": {},
   "outputs": [],
   "source": [
    "# AQI\n"
   ]
  },
  {
   "cell_type": "code",
   "execution_count": null,
   "metadata": {},
   "outputs": [],
   "source": [
    "# County cancer"
   ]
  },
  {
   "cell_type": "markdown",
   "metadata": {},
   "source": [
    "# Ethics & Privacy"
   ]
  },
  {
   "cell_type": "markdown",
   "metadata": {},
   "source": [
    "*Fill in your ethics & privacy discussion here*"
   ]
  },
  {
   "cell_type": "markdown",
   "metadata": {},
   "source": [
    "# Conclusion & Discussion"
   ]
  },
  {
   "cell_type": "markdown",
   "metadata": {},
   "source": [
    "*Fill in your discussion information here*"
   ]
  },
  {
   "cell_type": "markdown",
   "metadata": {},
   "source": [
    "# Team Contributions"
   ]
  },
  {
   "cell_type": "markdown",
   "metadata": {},
   "source": [
    "*Specify who in your group worked on which parts of the project.*"
   ]
  }
 ],
 "metadata": {
  "kernelspec": {
   "display_name": "Python 3 (ipykernel)",
   "language": "python",
   "name": "python3"
  },
  "language_info": {
   "codemirror_mode": {
    "name": "ipython",
    "version": 3
   },
   "file_extension": ".py",
   "mimetype": "text/x-python",
   "name": "python",
   "nbconvert_exporter": "python",
   "pygments_lexer": "ipython3",
   "version": "3.9.5"
  }
 },
 "nbformat": 4,
 "nbformat_minor": 2
}
