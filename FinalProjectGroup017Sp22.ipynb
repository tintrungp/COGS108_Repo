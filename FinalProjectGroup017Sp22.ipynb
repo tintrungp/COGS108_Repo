{
 "cells": [
  {
   "cell_type": "markdown",
   "metadata": {},
   "source": [
    "# COGS 108 - Final Project (change this to your project's title)"
   ]
  },
  {
   "cell_type": "markdown",
   "metadata": {},
   "source": [
    "## Permissions\n",
    "\n",
    "Place an `X` in the appropriate bracket below to specify if you would like your group's project to be made available to the public. (Note that student names will be included (but PIDs will be scraped from any groups who include their PIDs).\n",
    "\n",
    "* [  ] YES - make available\n",
    "* [  ] NO - keep private"
   ]
  },
  {
   "cell_type": "markdown",
   "metadata": {},
   "source": [
    "# Overview"
   ]
  },
  {
   "cell_type": "markdown",
   "metadata": {},
   "source": [
    "*Fill in your overview here*"
   ]
  },
  {
   "cell_type": "markdown",
   "metadata": {},
   "source": [
    "# Names\n",
    "\n",
    "- Nilou Shahbandi\n",
    "- Leonardo Gonzalez\n",
    "- Brian Chen\n",
    "- Tin-Trung Pham\n",
    "- Zhongkang(ken) Fang"
   ]
  },
  {
   "cell_type": "markdown",
   "metadata": {},
   "source": [
    "<a id='research_question'></a>\n",
    "# Research Question"
   ]
  },
  {
   "cell_type": "markdown",
   "metadata": {},
   "source": [
    "*Fill in your research question here*"
   ]
  },
  {
   "cell_type": "markdown",
   "metadata": {},
   "source": [
    "<a id='background'></a>\n",
    "\n",
    "## Background & Prior Work"
   ]
  },
  {
   "cell_type": "markdown",
   "metadata": {},
   "source": [
    "*Fill in your background and prior work here* \n",
    "\n",
    "References (include links):\n",
    "- 1)\n",
    "- 2)"
   ]
  },
  {
   "cell_type": "markdown",
   "metadata": {},
   "source": [
    "# Hypothesis\n"
   ]
  },
  {
   "cell_type": "markdown",
   "metadata": {},
   "source": [
    "*Fill in your hypotheses here*"
   ]
  },
  {
   "cell_type": "markdown",
   "metadata": {},
   "source": [
    "# Dataset(s)"
   ]
  },
  {
   "cell_type": "markdown",
   "metadata": {},
   "source": [
    "### *Dataset 1*\n",
    "\n",
    "(Copy this information for each dataset)\n",
    "- Dataset Name: annual_aqi_by_county_2010\n",
    "- Link to the dataset: https://aqs.epa.gov/aqsweb/airdata/download_files.html\n",
    "- Number of observations: 999\n",
    "\n",
    "\n",
    "- data contains AQI, calculated each day for each monitor for the Criteria Gases and PM10 and PM2.5 (FRM and non FRM).\n",
    "- of Days CO, NO2, Ozone, SO2, PM2.5, PM10 where the daily monitor criteria were met.\n",
    "\n",
    "- We extract the year of 2010 from the cancer data and merge with this data.\n",
    "- We will also add more years differentiate by colums and merge with cancer data which already have different years.\n",
    "\n",
    "\n",
    "### *Dataset 2*\n",
    "\n",
    "(Copy this information for each dataset)\n",
    "- Dataset Name: Lung and Bronchus Cancer Incidence in California\n",
    "- Link to the dataset:[California Cancer Registry](https://explorer.ccrcal.org/application.html?site=47&data_type=1&graph_type=13&compareBy=sex&chk_sex_1=1&race=1&age_range=9&hdn_stage=101&year=4&advopt_precision=4&advopt_display=2#tableWrap)\n",
    "- Number of observations: 9306\n",
    "- 2010 - 2018\n",
    "\n",
    "This data shows us the counts of lung or bronchus cancer in individuals of all races and sexes by county in California. It also includes breakdowns by age with additional statistics regarding the data.\n",
    "\n",
    "We plan to use this data in combination with the pollution data to track the impact of pollution on lung or bronchus cancer indcidents in individuals living in California. By comparing changes in pollution with changes in cancer incident counts.\n",
    "\n",
    "\n",
    "### *Dataset 3*\n",
    "\n",
    "(Copy this information for each dataset)\n",
    "- Dataset Name: \n",
    "- Link to the dataset:\n",
    "- Number of observations:\n",
    "\n",
    "#### Description:\n",
    "- \n",
    "\n",
    "\n",
    "#### If you plan to use multiple datasets, add 1-2 sentences about how you plan to combine these datasets.\n",
    "- "
   ]
  },
  {
   "cell_type": "markdown",
   "metadata": {},
   "source": [
    "# Setup"
   ]
  },
  {
   "cell_type": "code",
   "execution_count": 7,
   "metadata": {},
   "outputs": [],
   "source": [
    "## YOUR CODE HERE\n",
    "import pandas as pd \n",
    "import numpy as np\n",
    "import matplotlib.pyplot as plt\n",
    "import matplotlib.style as style\n",
    "import seaborn as sns\n",
    "\n",
    "aqi_2010 = pd.read_csv('data/aqireport2010.csv')\n",
    "county_cancer_all = pd.read_csv('data/countyCancer.csv')\n",
    "asthma = pd.read_csv('data/Asthma.csv')"
   ]
  },
  {
   "cell_type": "markdown",
   "metadata": {},
   "source": [
    "# Data Cleaning"
   ]
  },
  {
   "cell_type": "markdown",
   "metadata": {},
   "source": [
    "Describe your data cleaning steps here."
   ]
  },
  {
   "cell_type": "code",
   "execution_count": 8,
   "metadata": {},
   "outputs": [
    {
     "data": {
      "text/html": [
       "<div>\n",
       "<style scoped>\n",
       "    .dataframe tbody tr th:only-of-type {\n",
       "        vertical-align: middle;\n",
       "    }\n",
       "\n",
       "    .dataframe tbody tr th {\n",
       "        vertical-align: top;\n",
       "    }\n",
       "\n",
       "    .dataframe thead th {\n",
       "        text-align: right;\n",
       "    }\n",
       "</style>\n",
       "<table border=\"1\" class=\"dataframe\">\n",
       "  <thead>\n",
       "    <tr style=\"text-align: right;\">\n",
       "      <th></th>\n",
       "      <th>State</th>\n",
       "      <th>ChildCount</th>\n",
       "      <th>Percent</th>\n",
       "      <th>Year</th>\n",
       "      <th>AdultCount</th>\n",
       "      <th>Percent.1</th>\n",
       "    </tr>\n",
       "  </thead>\n",
       "  <tbody>\n",
       "    <tr>\n",
       "      <th>0</th>\n",
       "      <td>Alabama</td>\n",
       "      <td>141,500</td>\n",
       "      <td>13.20%</td>\n",
       "      <td>2014.0</td>\n",
       "      <td>394,600</td>\n",
       "      <td>10.50%</td>\n",
       "    </tr>\n",
       "    <tr>\n",
       "      <th>1</th>\n",
       "      <td>Alaska</td>\n",
       "      <td>---</td>\n",
       "      <td>---</td>\n",
       "      <td>NaN</td>\n",
       "      <td>50,700</td>\n",
       "      <td>9.20%</td>\n",
       "    </tr>\n",
       "    <tr>\n",
       "      <th>2</th>\n",
       "      <td>Arizona</td>\n",
       "      <td>129,200</td>\n",
       "      <td>8.10%</td>\n",
       "      <td>2016.0</td>\n",
       "      <td>545,100</td>\n",
       "      <td>10.00%</td>\n",
       "    </tr>\n",
       "    <tr>\n",
       "      <th>3</th>\n",
       "      <td>Arkansas</td>\n",
       "      <td>---</td>\n",
       "      <td>---</td>\n",
       "      <td>NaN</td>\n",
       "      <td>225,900</td>\n",
       "      <td>9.80%</td>\n",
       "    </tr>\n",
       "    <tr>\n",
       "      <th>4</th>\n",
       "      <td>California</td>\n",
       "      <td>542,700</td>\n",
       "      <td>6.20%</td>\n",
       "      <td>NaN</td>\n",
       "      <td>2,607,600</td>\n",
       "      <td>8.50%</td>\n",
       "    </tr>\n",
       "  </tbody>\n",
       "</table>\n",
       "</div>"
      ],
      "text/plain": [
       "        State ChildCount Percent    Year AdultCount Percent.1\n",
       "0     Alabama    141,500  13.20%  2014.0    394,600    10.50%\n",
       "1      Alaska        ---     ---     NaN     50,700     9.20%\n",
       "2     Arizona    129,200   8.10%  2016.0    545,100    10.00%\n",
       "3    Arkansas        ---     ---     NaN    225,900     9.80%\n",
       "4  California    542,700   6.20%     NaN  2,607,600     8.50%"
      ]
     },
     "execution_count": 8,
     "metadata": {},
     "output_type": "execute_result"
    }
   ],
   "source": [
    "## YOUR CODE HERE\n",
    "## FEEL FREE TO ADD MULTIPLE CELLS PER SECTION\n",
    "asthma.head()"
   ]
  },
  {
   "cell_type": "code",
   "execution_count": 9,
   "metadata": {},
   "outputs": [
    {
     "data": {
      "text/html": [
       "<div>\n",
       "<style scoped>\n",
       "    .dataframe tbody tr th:only-of-type {\n",
       "        vertical-align: middle;\n",
       "    }\n",
       "\n",
       "    .dataframe tbody tr th {\n",
       "        vertical-align: top;\n",
       "    }\n",
       "\n",
       "    .dataframe thead th {\n",
       "        text-align: right;\n",
       "    }\n",
       "</style>\n",
       "<table border=\"1\" class=\"dataframe\">\n",
       "  <thead>\n",
       "    <tr style=\"text-align: right;\">\n",
       "      <th></th>\n",
       "      <th>county</th>\n",
       "      <th>Good days</th>\n",
       "      <th>Unhealthy days</th>\n",
       "      <th>AQI 90th Percentile</th>\n",
       "      <th>AQI Median</th>\n",
       "    </tr>\n",
       "  </thead>\n",
       "  <tbody>\n",
       "    <tr>\n",
       "      <th>0</th>\n",
       "      <td>alameda</td>\n",
       "      <td>245</td>\n",
       "      <td>4</td>\n",
       "      <td>68.0</td>\n",
       "      <td>43.0</td>\n",
       "    </tr>\n",
       "    <tr>\n",
       "      <th>1</th>\n",
       "      <td>amador</td>\n",
       "      <td>302</td>\n",
       "      <td>10</td>\n",
       "      <td>64.0</td>\n",
       "      <td>35.0</td>\n",
       "    </tr>\n",
       "    <tr>\n",
       "      <th>2</th>\n",
       "      <td>butte</td>\n",
       "      <td>208</td>\n",
       "      <td>13</td>\n",
       "      <td>84.0</td>\n",
       "      <td>47.0</td>\n",
       "    </tr>\n",
       "    <tr>\n",
       "      <th>3</th>\n",
       "      <td>calaveras</td>\n",
       "      <td>271</td>\n",
       "      <td>12</td>\n",
       "      <td>84.0</td>\n",
       "      <td>41.0</td>\n",
       "    </tr>\n",
       "    <tr>\n",
       "      <th>4</th>\n",
       "      <td>colusa</td>\n",
       "      <td>322</td>\n",
       "      <td>1</td>\n",
       "      <td>49.0</td>\n",
       "      <td>38.0</td>\n",
       "    </tr>\n",
       "  </tbody>\n",
       "</table>\n",
       "</div>"
      ],
      "text/plain": [
       "      county  Good days Unhealthy days  AQI 90th Percentile  AQI Median\n",
       "0    alameda        245              4                 68.0        43.0\n",
       "1     amador        302             10                 64.0        35.0\n",
       "2      butte        208             13                 84.0        47.0\n",
       "3  calaveras        271             12                 84.0        41.0\n",
       "4     colusa        322              1                 49.0        38.0"
      ]
     },
     "execution_count": 9,
     "metadata": {},
     "output_type": "execute_result"
    }
   ],
   "source": [
    "aqi_2010.drop(['# Days with AQI', 'Moderate', 'Unhealthy', 'Very Unhealthy', 'County Code',\n",
    "                'Hazardous', 'AQI Maximum', '# Days CO', '# Days NO2', '# Days O3', '# Days PM2.5', '# Days PM10'  ], \n",
    "                 inplace = True, axis=1)\n",
    "aqi_2010.columns = ['county', 'Good days', 'Unhealthy days', 'AQI 90th Percentile', 'AQI Median']\n",
    "aqi_2010['county'] = aqi_2010['county'].apply(standardize_region)\n",
    "aqi_2010.head()"
   ]
  },
  {
   "cell_type": "code",
   "execution_count": 10,
   "metadata": {},
   "outputs": [
    {
     "data": {
      "text/html": [
       "<div>\n",
       "<style scoped>\n",
       "    .dataframe tbody tr th:only-of-type {\n",
       "        vertical-align: middle;\n",
       "    }\n",
       "\n",
       "    .dataframe tbody tr th {\n",
       "        vertical-align: top;\n",
       "    }\n",
       "\n",
       "    .dataframe thead th {\n",
       "        text-align: right;\n",
       "    }\n",
       "</style>\n",
       "<table border=\"1\" class=\"dataframe\">\n",
       "  <thead>\n",
       "    <tr style=\"text-align: right;\">\n",
       "      <th></th>\n",
       "      <th>year</th>\n",
       "      <th>county</th>\n",
       "      <th>rate per 100,000</th>\n",
       "      <th>count</th>\n",
       "    </tr>\n",
       "  </thead>\n",
       "  <tbody>\n",
       "    <tr>\n",
       "      <th>0</th>\n",
       "      <td>2010</td>\n",
       "      <td>alameda</td>\n",
       "      <td>44.8118</td>\n",
       "      <td>646</td>\n",
       "    </tr>\n",
       "    <tr>\n",
       "      <th>1</th>\n",
       "      <td>2010</td>\n",
       "      <td>butte</td>\n",
       "      <td>63.0616</td>\n",
       "      <td>171</td>\n",
       "    </tr>\n",
       "    <tr>\n",
       "      <th>2</th>\n",
       "      <td>2010</td>\n",
       "      <td>contra costa</td>\n",
       "      <td>50.2429</td>\n",
       "      <td>536</td>\n",
       "    </tr>\n",
       "    <tr>\n",
       "      <th>3</th>\n",
       "      <td>2010</td>\n",
       "      <td>el dorado</td>\n",
       "      <td>54.2364</td>\n",
       "      <td>124</td>\n",
       "    </tr>\n",
       "    <tr>\n",
       "      <th>4</th>\n",
       "      <td>2010</td>\n",
       "      <td>fresno</td>\n",
       "      <td>51.7782</td>\n",
       "      <td>401</td>\n",
       "    </tr>\n",
       "  </tbody>\n",
       "</table>\n",
       "</div>"
      ],
      "text/plain": [
       "   year        county rate per 100,000 count\n",
       "0  2010       alameda          44.8118   646\n",
       "1  2010         butte          63.0616   171\n",
       "2  2010  contra costa          50.2429   536\n",
       "3  2010     el dorado          54.2364   124\n",
       "4  2010        fresno          51.7782   401"
      ]
     },
     "execution_count": 10,
     "metadata": {},
     "output_type": "execute_result"
    }
   ],
   "source": [
    "county_cancer_all = pd.read_csv('data/countyCancer.csv')\n",
    "county_cancer_all = county_cancer_all[county_cancer_all['Age'] == 'All Ages']\n",
    "county_cancer_all.drop(['Sex', 'Race/Ethnicity', 'Age', 'Stage at Diagnosis', 'Age-adjusted Rate Standard Error',\n",
    "                         'Age-adjusted Rate Lower Confidence Interval', 'Age-adjusted Rate Upper Confidence Interval'], \n",
    "                 inplace = True, axis=1)\n",
    "county_cancer_all['California Region'] = county_cancer_all['California Region'].apply(standardize_region)\n",
    "county_cancer_all.columns = ['year','county', 'rate per 100,000', 'count']\n",
    "county_cancer_all = county_cancer_all[county_cancer_all['rate per 100,000'] != 'a']\n",
    "county_cancer_all.head()"
   ]
  },
  {
   "cell_type": "code",
   "execution_count": 11,
   "metadata": {},
   "outputs": [
    {
     "data": {
      "text/html": [
       "<div>\n",
       "<style scoped>\n",
       "    .dataframe tbody tr th:only-of-type {\n",
       "        vertical-align: middle;\n",
       "    }\n",
       "\n",
       "    .dataframe tbody tr th {\n",
       "        vertical-align: top;\n",
       "    }\n",
       "\n",
       "    .dataframe thead th {\n",
       "        text-align: right;\n",
       "    }\n",
       "</style>\n",
       "<table border=\"1\" class=\"dataframe\">\n",
       "  <thead>\n",
       "    <tr style=\"text-align: right;\">\n",
       "      <th></th>\n",
       "      <th>county</th>\n",
       "      <th>rate per 100,000</th>\n",
       "      <th>count</th>\n",
       "    </tr>\n",
       "  </thead>\n",
       "  <tbody>\n",
       "    <tr>\n",
       "      <th>0</th>\n",
       "      <td>alameda</td>\n",
       "      <td>44.8118</td>\n",
       "      <td>646</td>\n",
       "    </tr>\n",
       "    <tr>\n",
       "      <th>1</th>\n",
       "      <td>butte</td>\n",
       "      <td>63.0616</td>\n",
       "      <td>171</td>\n",
       "    </tr>\n",
       "    <tr>\n",
       "      <th>2</th>\n",
       "      <td>contra costa</td>\n",
       "      <td>50.2429</td>\n",
       "      <td>536</td>\n",
       "    </tr>\n",
       "    <tr>\n",
       "      <th>3</th>\n",
       "      <td>el dorado</td>\n",
       "      <td>54.2364</td>\n",
       "      <td>124</td>\n",
       "    </tr>\n",
       "    <tr>\n",
       "      <th>4</th>\n",
       "      <td>fresno</td>\n",
       "      <td>51.7782</td>\n",
       "      <td>401</td>\n",
       "    </tr>\n",
       "  </tbody>\n",
       "</table>\n",
       "</div>"
      ],
      "text/plain": [
       "         county rate per 100,000 count\n",
       "0       alameda          44.8118   646\n",
       "1         butte          63.0616   171\n",
       "2  contra costa          50.2429   536\n",
       "3     el dorado          54.2364   124\n",
       "4        fresno          51.7782   401"
      ]
     },
     "execution_count": 11,
     "metadata": {},
     "output_type": "execute_result"
    }
   ],
   "source": [
    "county_cancer_2010 = county_cancer[county_cancer['Year'] == 2010]\n",
    "county_cancer_2010 = county_cancer_2010[county_cancer_2010['Age'] == 'All Ages']\n",
    "county_cancer_2010.drop(['Sex', 'Race/Ethnicity', 'Age', 'Stage at Diagnosis', 'Age-adjusted Rate Standard Error', 'Year',\n",
    "                         'Age-adjusted Rate Lower Confidence Interval', 'Age-adjusted Rate Upper Confidence Interval'], \n",
    "                 inplace = True, axis=1)\n",
    "county_cancer_2010['California Region'] = county_cancer_2010['California Region'].apply(standardize_region)\n",
    "county_cancer_2010.columns = ['county', 'rate per 100,000', 'count']\n",
    "county_cancer_2010.head()"
   ]
  },
  {
   "cell_type": "code",
   "execution_count": 5,
   "metadata": {},
   "outputs": [],
   "source": [
    "def standardize_region(str_in):\n",
    "    \n",
    "    try:\n",
    "        str_in = str_in.lower()\n",
    "        str_in = str_in.strip()\n",
    "        output = str_in\n",
    "\n",
    "        if 'county, ca' in str_in:\n",
    "            str_in = str_in.replace('county, ca', '')\n",
    "            str_in = str_in.strip()\n",
    "            output = str_in\n",
    "            \n",
    "        if 'county' in str_in:\n",
    "            str_in = str_in.replace('county', '')\n",
    "            str_in = str_in.strip()\n",
    "            output = str_in\n",
    "            \n",
    "            \n",
    "    except:\n",
    "        output = np.nan\n",
    "        \n",
    "    return output\n"
   ]
  },
  {
   "cell_type": "markdown",
   "metadata": {},
   "source": [
    "# Data Analysis & Results"
   ]
  },
  {
   "cell_type": "markdown",
   "metadata": {},
   "source": [
    "Include cells that describe the steps in your data analysis."
   ]
  },
  {
   "cell_type": "code",
   "execution_count": null,
   "metadata": {},
   "outputs": [],
   "source": [
    "# EDA"
   ]
  },
  {
   "cell_type": "markdown",
   "metadata": {},
   "source": [
    "### Descriptive Data Analysis(Asthma)"
   ]
  },
  {
   "cell_type": "code",
   "execution_count": 3,
   "metadata": {},
   "outputs": [],
   "source": [
    "## YOUR CODE HERE\n",
    "## FEEL FREE TO ADD MULTIPLE CELLS PER SECTION\n",
    "# Asthma"
   ]
  },
  {
   "cell_type": "markdown",
   "metadata": {},
   "source": [
    "### Descriptive Data Analysis(AQI)"
   ]
  },
  {
   "cell_type": "code",
   "execution_count": null,
   "metadata": {},
   "outputs": [],
   "source": [
    "# AQI\n"
   ]
  },
  {
   "cell_type": "markdown",
   "metadata": {},
   "source": [
    "### Descriptive Data Analysis(Cancer)\n"
   ]
  },
  {
   "cell_type": "code",
   "execution_count": null,
   "metadata": {},
   "outputs": [],
   "source": [
    "# County cancer"
   ]
  },
  {
   "cell_type": "code",
   "execution_count": null,
   "metadata": {},
   "outputs": [],
   "source": [
    "#----------------------------------------------------------------------#\n",
    "# inferences"
   ]
  },
  {
   "cell_type": "code",
   "execution_count": 12,
   "metadata": {},
   "outputs": [
    {
     "data": {
      "text/html": [
       "<div>\n",
       "<style scoped>\n",
       "    .dataframe tbody tr th:only-of-type {\n",
       "        vertical-align: middle;\n",
       "    }\n",
       "\n",
       "    .dataframe tbody tr th {\n",
       "        vertical-align: top;\n",
       "    }\n",
       "\n",
       "    .dataframe thead th {\n",
       "        text-align: right;\n",
       "    }\n",
       "</style>\n",
       "<table border=\"1\" class=\"dataframe\">\n",
       "  <thead>\n",
       "    <tr style=\"text-align: right;\">\n",
       "      <th></th>\n",
       "      <th>county</th>\n",
       "      <th>rate per 100,000</th>\n",
       "      <th>count</th>\n",
       "      <th>Good days</th>\n",
       "      <th>Unhealthy days</th>\n",
       "      <th>AQI 90th Percentile</th>\n",
       "      <th>AQI Median</th>\n",
       "    </tr>\n",
       "  </thead>\n",
       "  <tbody>\n",
       "    <tr>\n",
       "      <th>0</th>\n",
       "      <td>alameda</td>\n",
       "      <td>44.8118</td>\n",
       "      <td>646</td>\n",
       "      <td>245</td>\n",
       "      <td>4</td>\n",
       "      <td>68.0</td>\n",
       "      <td>43.0</td>\n",
       "    </tr>\n",
       "    <tr>\n",
       "      <th>1</th>\n",
       "      <td>butte</td>\n",
       "      <td>63.0616</td>\n",
       "      <td>171</td>\n",
       "      <td>208</td>\n",
       "      <td>13</td>\n",
       "      <td>84.0</td>\n",
       "      <td>47.0</td>\n",
       "    </tr>\n",
       "    <tr>\n",
       "      <th>2</th>\n",
       "      <td>contra costa</td>\n",
       "      <td>50.2429</td>\n",
       "      <td>536</td>\n",
       "      <td>307</td>\n",
       "      <td>8</td>\n",
       "      <td>64.0</td>\n",
       "      <td>39.0</td>\n",
       "    </tr>\n",
       "    <tr>\n",
       "      <th>3</th>\n",
       "      <td>el dorado</td>\n",
       "      <td>54.2364</td>\n",
       "      <td>124</td>\n",
       "      <td>251</td>\n",
       "      <td>23</td>\n",
       "      <td>93.0</td>\n",
       "      <td>42.0</td>\n",
       "    </tr>\n",
       "    <tr>\n",
       "      <th>4</th>\n",
       "      <td>fresno</td>\n",
       "      <td>51.7782</td>\n",
       "      <td>401</td>\n",
       "      <td>99</td>\n",
       "      <td>65</td>\n",
       "      <td>130.0</td>\n",
       "      <td>70.0</td>\n",
       "    </tr>\n",
       "  </tbody>\n",
       "</table>\n",
       "</div>"
      ],
      "text/plain": [
       "         county rate per 100,000 count  Good days Unhealthy days  \\\n",
       "0       alameda          44.8118   646        245              4   \n",
       "1         butte          63.0616   171        208             13   \n",
       "2  contra costa          50.2429   536        307              8   \n",
       "3     el dorado          54.2364   124        251             23   \n",
       "4        fresno          51.7782   401         99             65   \n",
       "\n",
       "   AQI 90th Percentile  AQI Median  \n",
       "0                 68.0        43.0  \n",
       "1                 84.0        47.0  \n",
       "2                 64.0        39.0  \n",
       "3                 93.0        42.0  \n",
       "4                130.0        70.0  "
      ]
     },
     "execution_count": 12,
     "metadata": {},
     "output_type": "execute_result"
    }
   ],
   "source": [
    "county_cancer_2010 = county_cancer_2010.drop(county_cancer_2010.index[39:47])\n",
    "\n",
    "\n",
    "aqi_cancer_2010 = pd.merge(county_cancer_2010, aqi_2010, on='county')\n",
    "aqi_cancer_2010.head()"
   ]
  },
  {
   "cell_type": "markdown",
   "metadata": {},
   "source": [
    "# Ethics & Privacy"
   ]
  },
  {
   "cell_type": "markdown",
   "metadata": {},
   "source": [
    "*Fill in your ethics & privacy discussion here*"
   ]
  },
  {
   "cell_type": "markdown",
   "metadata": {},
   "source": [
    "# Conclusion & Discussion"
   ]
  },
  {
   "cell_type": "markdown",
   "metadata": {},
   "source": [
    "*Fill in your discussion information here*"
   ]
  },
  {
   "cell_type": "markdown",
   "metadata": {},
   "source": [
    "# Team Contributions"
   ]
  },
  {
   "cell_type": "markdown",
   "metadata": {},
   "source": [
    "*Specify who in your group worked on which parts of the project.*"
   ]
  }
 ],
 "metadata": {
  "kernelspec": {
   "display_name": "Python 3 (ipykernel)",
   "language": "python",
   "name": "python3"
  },
  "language_info": {
   "codemirror_mode": {
    "name": "ipython",
    "version": 3
   },
   "file_extension": ".py",
   "mimetype": "text/x-python",
   "name": "python",
   "nbconvert_exporter": "python",
   "pygments_lexer": "ipython3",
   "version": "3.9.5"
  }
 },
 "nbformat": 4,
 "nbformat_minor": 2
}
