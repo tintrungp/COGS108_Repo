{
 "cells": [
  {
   "cell_type": "markdown",
   "metadata": {},
   "source": [
    "# COGS 108 - Final Project Proposal"
   ]
  },
  {
   "cell_type": "markdown",
   "metadata": {},
   "source": [
    "# Names\n",
    "\n",
    "- Nilou Shahbandi\n",
    "- Leonardo Gonzalez\n",
    "- Brian Chen\n",
    "- Tin-Trung Pham\n",
    "- Zhongkang(ken) Fang"
   ]
  },
  {
   "cell_type": "markdown",
   "metadata": {},
   "source": [
    "# Research Question"
   ]
  },
  {
   "cell_type": "markdown",
   "metadata": {},
   "source": [
    "*To what extent does pollution in California impact respiratory illnesses in person under 25 years old?*"
   ]
  },
  {
   "cell_type": "markdown",
   "metadata": {},
   "source": [
    "## Background and Prior Work"
   ]
  },
  {
   "cell_type": "markdown",
   "metadata": {},
   "source": [
    "Why it is of interest to us:\n",
    "Climate change is a now problem, but it often seems that many understand climate change as a “future” problem. We wanted to provide a new perspective on why we must make changes to prevent climate change now. It has been said that “younger generations are the future” and we believe that. However, what if we could show how pollutants are impacting younger generations now? What if it was obvious that impact of climate change is more than volatile weather to come? That’s what we want to do by answering this question.\n",
    "\n",
    "Prior to research, we all knew that pollution wasn’t a good thing. After diving deeper, we found that expoure to air pollution for extended times can be impacting factor in respiratory diseases like asthma and lung cancer (1). In a study, we found that respiratory illnesses can be attributed to pollution, however, this can be broken down into outdoor and indoor pollutants **(1)**. From this, we know that the association between pollutants and respiratory disease is true, but to what degree and amongst whom?\n",
    "\n",
    "Since we are concerned with younger persons i.e. the future, we wanted to explore any prior work regarding the development of respiratory illness. Eventually, we reviewed a study that focused on the implications of lung diseases with early exposure **(2)**. By closely measuring pollution at the chemical level, associations were able to be formed regarding the impact on individuals **(2)**. One particular focus of this study found associations in prenatal air pollution exposure with several impacts on birth, along with this, the study revealed both short-term and long-term effects on respiratory health **(2)**.\n",
    "\n",
    "\n",
    "For example: After government genocide in the 20th century, real birds were replaced with surveillance drones designed to look just like birds[^lorenz]. \n",
    "Use a minimum of 2 or 3 citations, but we prefer more[^admonish]. You need enough to fully explain and back up important facts. \n",
    "\n",
    "[^lorenz]: Jiang, Xu-Qin et al. “Air pollution and chronic airway diseases: what should people know and do?.” Journal of thoracic disease vol. 8,1 (2016): E31-40. doi:10.3978/j.issn.2072-1439.2015.11.50 https://www.ncbi.nlm.nih.gov/pmc/articles/PMC4740163. \n",
    "[^admonish]: Kim, Dasom et al. “Air pollutants and early origins of respiratory diseases.” Chronic diseases and translational medicine vol. 4,2 75-94. 7 Jun. 2018, doi:10.1016/j.cdtm.2018.03.003 https://www.ncbi.nlm.nih.gov/pmc/articles/PMC6033955.\n",
    "\n"
   ]
  },
  {
   "cell_type": "markdown",
   "metadata": {},
   "source": [
    "# Hypothesis\n"
   ]
  },
  {
   "cell_type": "markdown",
   "metadata": {},
   "source": [
    "*We believe that higher rates of pollution will result in higher rates of lung cancer….*"
   ]
  },
  {
   "cell_type": "markdown",
   "metadata": {},
   "source": [
    "# Data"
   ]
  },
  {
   "cell_type": "markdown",
   "metadata": {},
   "source": [
    "*Explain what the ideal dataset you would want to answer this question. (This should include: What variables? How many observations? Who/what/how would these data be collected? How would these data be stored/organized?)*\n",
    "\n",
    "Cancer data: https://statecancerprofiles.cancer.gov/incidencerates/index.php?stateFIPS=01&areatype=county&cancer=047&stage=211&race=00&sex=0&age=001&year=0&type=incd&sortVariableName=rate&sortOrder=desc#results\n",
    "\n",
    "Pollution Data: https://www.kaggle.com/datasets/sogun3/uspollution\n",
    "\n",
    " The ideal dataset we want is a dataset with AQI(air quality index) by county/state , cancer rate by county/state, count of cancer cases by county/state, NO2 units. The dataset should include a lot of observations like millions                      , the data should be collected by the government like CDC, \n",
    "\n"
   ]
  },
  {
   "cell_type": "markdown",
   "metadata": {},
   "source": [
    "# Ethics & Privacy"
   ]
  },
  {
   "cell_type": "markdown",
   "metadata": {},
   "source": [
    "*Fill in your ethics & privacy discussion here*"
   ]
  },
  {
   "cell_type": "markdown",
   "metadata": {},
   "source": [
    "# Team Expectations "
   ]
  },
  {
   "cell_type": "markdown",
   "metadata": {},
   "source": [
    "* *Keeping up with and making progress on the project so that it’s not all left until the end*\n",
    "* *Having equal contribution by all team members*\n",
    "* *Being able to rely on one another to review each other's work *\n",
    "* ..."
   ]
  },
  {
   "cell_type": "markdown",
   "metadata": {},
   "source": [
    "# Project Timeline Proposal"
   ]
  },
  {
   "cell_type": "markdown",
   "metadata": {},
   "source": [
    "| Meeting Date  | Meeting Time| Completed Before Meeting  | Discuss at Meeting |\n",
    "|---|---|---|---|\n",
    "| 1/20  |  1 PM | Read & Think about COGS 108 expectations; brainstorm topics/questions  | Determine best form of communication; Discuss and decide on final project topic; discuss hypothesis; begin background research | \n",
    "| 1/26  |  10 AM |  Do background research on topic | Discuss ideal dataset(s) and ethics; draft project proposal | \n",
    "| 2/1  | 10 AM  | Edit, finalize, and submit proposal; Search for datasets  | Discuss Wrangling and possible analytical approaches; Assign group members to lead each specific part   |\n",
    "| 2/14  | 6 PM  | Import & Wrangle Data (Ant Man); EDA (Hulk) | Review/Edit wrangling/EDA; Discuss Analysis Plan   |\n",
    "| 2/23  | 12 PM  | Finalize wrangling/EDA; Begin Analysis (Iron Man; Thor) | Discuss/edit Analysis; Complete project check-in |\n",
    "| 3/13  | 12 PM  | Complete analysis; Draft results/conclusion/discussion (Wasp)| Discuss/edit full project |\n",
    "| 3/19  | Before 11:59 PM  | NA | Turn in Final Project & Group Project Surveys |"
   ]
  }
 ],
 "metadata": {
  "kernelspec": {
   "display_name": "Python 3 (ipykernel)",
   "language": "python",
   "name": "python3"
  },
  "language_info": {
   "codemirror_mode": {
    "name": "ipython",
    "version": 3
   },
   "file_extension": ".py",
   "mimetype": "text/x-python",
   "name": "python",
   "nbconvert_exporter": "python",
   "pygments_lexer": "ipython3",
   "version": "3.9.5"
  }
 },
 "nbformat": 4,
 "nbformat_minor": 2
}
