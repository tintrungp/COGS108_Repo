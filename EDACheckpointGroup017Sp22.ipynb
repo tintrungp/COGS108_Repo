{
 "cells": [
  {
   "cell_type": "markdown",
   "metadata": {},
   "source": [
    "# COGS 108 - EDA Checkpoint"
   ]
  },
  {
   "cell_type": "markdown",
   "metadata": {},
   "source": [
    "# Names\n",
    "\n",
    "- Nilou Shahbandi\n",
    "- Leonardo Gonzalez\n",
    "- Brian Chen\n",
    "- Tin-Trung Pham\n",
    "- Zhongkang(ken) Fang"
   ]
  },
  {
   "cell_type": "markdown",
   "metadata": {},
   "source": [
    "<a id='research_question'></a>\n",
    "# Research Question"
   ]
  },
  {
   "cell_type": "markdown",
   "metadata": {},
   "source": [
    "*How do different pollutants in California impact the rate of cancer in individuals, and how does pollutants affect rate of Asthma?*"
   ]
  },
  {
   "cell_type": "markdown",
   "metadata": {},
   "source": [
    "# Setup"
   ]
  },
  {
   "cell_type": "code",
   "execution_count": 31,
   "metadata": {},
   "outputs": [],
   "source": [
    "## YOUR CODE HERE\n",
    "import pandas as pd \n",
    "import numpy as np\n",
    "\n",
    "aqi_2010 = pd.read_csv('data/aqireport2010.csv')\n",
    "county_cancer = pd.read_csv('data/countyCancer.csv')"
   ]
  },
  {
   "cell_type": "markdown",
   "metadata": {},
   "source": [
    "# Data Cleaning"
   ]
  },
  {
   "cell_type": "markdown",
   "metadata": {},
   "source": [
    "Describe your data cleaning steps here."
   ]
  },
  {
   "cell_type": "code",
   "execution_count": 7,
   "metadata": {},
   "outputs": [],
   "source": [
    "## YOUR CODE HERE\n",
    "## FEEL FREE TO ADD MULTIPLE CELLS PER SECTION"
   ]
  },
  {
   "cell_type": "code",
   "execution_count": 32,
   "metadata": {},
   "outputs": [
    {
     "data": {
      "text/html": [
       "<div>\n",
       "<style scoped>\n",
       "    .dataframe tbody tr th:only-of-type {\n",
       "        vertical-align: middle;\n",
       "    }\n",
       "\n",
       "    .dataframe tbody tr th {\n",
       "        vertical-align: top;\n",
       "    }\n",
       "\n",
       "    .dataframe thead th {\n",
       "        text-align: right;\n",
       "    }\n",
       "</style>\n",
       "<table border=\"1\" class=\"dataframe\">\n",
       "  <thead>\n",
       "    <tr style=\"text-align: right;\">\n",
       "      <th></th>\n",
       "      <th>county</th>\n",
       "      <th>Good days</th>\n",
       "      <th>Unhealthy days</th>\n",
       "      <th>AQI 90th Percentile</th>\n",
       "      <th>AQI Median</th>\n",
       "    </tr>\n",
       "  </thead>\n",
       "  <tbody>\n",
       "    <tr>\n",
       "      <th>0</th>\n",
       "      <td>alameda</td>\n",
       "      <td>245</td>\n",
       "      <td>4</td>\n",
       "      <td>68.0</td>\n",
       "      <td>43.0</td>\n",
       "    </tr>\n",
       "    <tr>\n",
       "      <th>1</th>\n",
       "      <td>amador</td>\n",
       "      <td>302</td>\n",
       "      <td>10</td>\n",
       "      <td>64.0</td>\n",
       "      <td>35.0</td>\n",
       "    </tr>\n",
       "    <tr>\n",
       "      <th>2</th>\n",
       "      <td>butte</td>\n",
       "      <td>208</td>\n",
       "      <td>13</td>\n",
       "      <td>84.0</td>\n",
       "      <td>47.0</td>\n",
       "    </tr>\n",
       "    <tr>\n",
       "      <th>3</th>\n",
       "      <td>calaveras</td>\n",
       "      <td>271</td>\n",
       "      <td>12</td>\n",
       "      <td>84.0</td>\n",
       "      <td>41.0</td>\n",
       "    </tr>\n",
       "    <tr>\n",
       "      <th>4</th>\n",
       "      <td>colusa</td>\n",
       "      <td>322</td>\n",
       "      <td>1</td>\n",
       "      <td>49.0</td>\n",
       "      <td>38.0</td>\n",
       "    </tr>\n",
       "  </tbody>\n",
       "</table>\n",
       "</div>"
      ],
      "text/plain": [
       "      county  Good days Unhealthy days  AQI 90th Percentile  AQI Median\n",
       "0    alameda        245              4                 68.0        43.0\n",
       "1     amador        302             10                 64.0        35.0\n",
       "2      butte        208             13                 84.0        47.0\n",
       "3  calaveras        271             12                 84.0        41.0\n",
       "4     colusa        322              1                 49.0        38.0"
      ]
     },
     "execution_count": 32,
     "metadata": {},
     "output_type": "execute_result"
    }
   ],
   "source": [
    "# Data cleaning for AQI_2010\n",
    "aqi_2010.drop(['# Days with AQI', 'Moderate', 'Unhealthy', 'Very Unhealthy', 'County Code',\n",
    "                'Hazardous', 'AQI Maximum', '# Days CO', '# Days NO2', '# Days O3', '# Days PM2.5', '# Days PM10'  ], \n",
    "                 inplace = True, axis=1)\n",
    "aqi_2010.columns = ['county', 'Good days', 'Unhealthy days', 'AQI 90th Percentile', 'AQI Median']\n",
    "aqi_2010['county'] = aqi_2010['county'].apply(standardize_region)\n",
    "aqi_2010.head()"
   ]
  },
  {
   "cell_type": "code",
   "execution_count": 33,
   "metadata": {},
   "outputs": [
    {
     "data": {
      "text/html": [
       "<div>\n",
       "<style scoped>\n",
       "    .dataframe tbody tr th:only-of-type {\n",
       "        vertical-align: middle;\n",
       "    }\n",
       "\n",
       "    .dataframe tbody tr th {\n",
       "        vertical-align: top;\n",
       "    }\n",
       "\n",
       "    .dataframe thead th {\n",
       "        text-align: right;\n",
       "    }\n",
       "</style>\n",
       "<table border=\"1\" class=\"dataframe\">\n",
       "  <thead>\n",
       "    <tr style=\"text-align: right;\">\n",
       "      <th></th>\n",
       "      <th>county</th>\n",
       "      <th>rate per 100,000</th>\n",
       "      <th>count</th>\n",
       "    </tr>\n",
       "  </thead>\n",
       "  <tbody>\n",
       "    <tr>\n",
       "      <th>0</th>\n",
       "      <td>alameda</td>\n",
       "      <td>44.8118</td>\n",
       "      <td>646</td>\n",
       "    </tr>\n",
       "    <tr>\n",
       "      <th>1</th>\n",
       "      <td>butte</td>\n",
       "      <td>63.0616</td>\n",
       "      <td>171</td>\n",
       "    </tr>\n",
       "    <tr>\n",
       "      <th>2</th>\n",
       "      <td>contra costa</td>\n",
       "      <td>50.2429</td>\n",
       "      <td>536</td>\n",
       "    </tr>\n",
       "    <tr>\n",
       "      <th>3</th>\n",
       "      <td>el dorado</td>\n",
       "      <td>54.2364</td>\n",
       "      <td>124</td>\n",
       "    </tr>\n",
       "    <tr>\n",
       "      <th>4</th>\n",
       "      <td>fresno</td>\n",
       "      <td>51.7782</td>\n",
       "      <td>401</td>\n",
       "    </tr>\n",
       "  </tbody>\n",
       "</table>\n",
       "</div>"
      ],
      "text/plain": [
       "         county rate per 100,000 count\n",
       "0       alameda          44.8118   646\n",
       "1         butte          63.0616   171\n",
       "2  contra costa          50.2429   536\n",
       "3     el dorado          54.2364   124\n",
       "4        fresno          51.7782   401"
      ]
     },
     "execution_count": 33,
     "metadata": {},
     "output_type": "execute_result"
    }
   ],
   "source": [
    "# Data Cleaning for county_cancer_2010\n",
    "# filter year 2010\n",
    "county_cancer_2010 = county_cancer[county_cancer['Year'] == 2010]\n",
    "county_cancer_2010 = county_cancer_2010[county_cancer_2010['Age'] == 'All Ages']\n",
    "county_cancer_2010.drop(['Sex', 'Race/Ethnicity', 'Age', 'Stage at Diagnosis', 'Age-adjusted Rate Standard Error', 'Year',\n",
    "                         'Age-adjusted Rate Lower Confidence Interval', 'Age-adjusted Rate Upper Confidence Interval'], \n",
    "                 inplace = True, axis=1)\n",
    "county_cancer_2010['California Region'] = county_cancer_2010['California Region'].apply(standardize_region)\n",
    "county_cancer_2010.columns = ['county', 'rate per 100,000', 'count']\n",
    "county_cancer_2010.head()"
   ]
  },
  {
   "cell_type": "code",
   "execution_count": 36,
   "metadata": {},
   "outputs": [
    {
     "data": {
      "text/html": [
       "<div>\n",
       "<style scoped>\n",
       "    .dataframe tbody tr th:only-of-type {\n",
       "        vertical-align: middle;\n",
       "    }\n",
       "\n",
       "    .dataframe tbody tr th {\n",
       "        vertical-align: top;\n",
       "    }\n",
       "\n",
       "    .dataframe thead th {\n",
       "        text-align: right;\n",
       "    }\n",
       "</style>\n",
       "<table border=\"1\" class=\"dataframe\">\n",
       "  <thead>\n",
       "    <tr style=\"text-align: right;\">\n",
       "      <th></th>\n",
       "      <th>county</th>\n",
       "      <th>rate per 100,000</th>\n",
       "      <th>count</th>\n",
       "      <th>Good days</th>\n",
       "      <th>Unhealthy days</th>\n",
       "      <th>AQI 90th Percentile</th>\n",
       "      <th>AQI Median</th>\n",
       "    </tr>\n",
       "  </thead>\n",
       "  <tbody>\n",
       "    <tr>\n",
       "      <th>0</th>\n",
       "      <td>alameda</td>\n",
       "      <td>44.8118</td>\n",
       "      <td>646</td>\n",
       "      <td>245</td>\n",
       "      <td>4</td>\n",
       "      <td>68.0</td>\n",
       "      <td>43.0</td>\n",
       "    </tr>\n",
       "    <tr>\n",
       "      <th>1</th>\n",
       "      <td>butte</td>\n",
       "      <td>63.0616</td>\n",
       "      <td>171</td>\n",
       "      <td>208</td>\n",
       "      <td>13</td>\n",
       "      <td>84.0</td>\n",
       "      <td>47.0</td>\n",
       "    </tr>\n",
       "    <tr>\n",
       "      <th>2</th>\n",
       "      <td>contra costa</td>\n",
       "      <td>50.2429</td>\n",
       "      <td>536</td>\n",
       "      <td>307</td>\n",
       "      <td>8</td>\n",
       "      <td>64.0</td>\n",
       "      <td>39.0</td>\n",
       "    </tr>\n",
       "    <tr>\n",
       "      <th>3</th>\n",
       "      <td>el dorado</td>\n",
       "      <td>54.2364</td>\n",
       "      <td>124</td>\n",
       "      <td>251</td>\n",
       "      <td>23</td>\n",
       "      <td>93.0</td>\n",
       "      <td>42.0</td>\n",
       "    </tr>\n",
       "    <tr>\n",
       "      <th>4</th>\n",
       "      <td>fresno</td>\n",
       "      <td>51.7782</td>\n",
       "      <td>401</td>\n",
       "      <td>99</td>\n",
       "      <td>65</td>\n",
       "      <td>130.0</td>\n",
       "      <td>70.0</td>\n",
       "    </tr>\n",
       "  </tbody>\n",
       "</table>\n",
       "</div>"
      ],
      "text/plain": [
       "         county rate per 100,000 count  Good days Unhealthy days  \\\n",
       "0       alameda          44.8118   646        245              4   \n",
       "1         butte          63.0616   171        208             13   \n",
       "2  contra costa          50.2429   536        307              8   \n",
       "3     el dorado          54.2364   124        251             23   \n",
       "4        fresno          51.7782   401         99             65   \n",
       "\n",
       "   AQI 90th Percentile  AQI Median  \n",
       "0                 68.0        43.0  \n",
       "1                 84.0        47.0  \n",
       "2                 64.0        39.0  \n",
       "3                 93.0        42.0  \n",
       "4                130.0        70.0  "
      ]
     },
     "execution_count": 36,
     "metadata": {},
     "output_type": "execute_result"
    }
   ],
   "source": [
    "# combine aqi and cancer data\n",
    "# year: 2010\n",
    "\n",
    "# drop the county with combined cancer value\n",
    "# we drop them instead of taking the average because there are significant differences for the AQI values \n",
    "county_cancer_2010 = county_cancer_2010.drop(county_cancer_2010.index[39:47])\n",
    "\n",
    "\n",
    "aqi_cancer_2010 = pd.merge(county_cancer_2010, aqi_2010, on='county')\n",
    "aqi_cancer_2010.head()"
   ]
  },
  {
   "cell_type": "code",
   "execution_count": 30,
   "metadata": {},
   "outputs": [],
   "source": [
    "\n",
    "def standardize_region(str_in):\n",
    "    \n",
    "    try:\n",
    "        str_in = str_in.lower()\n",
    "        str_in = str_in.strip()\n",
    "        output = str_in\n",
    "\n",
    "        if 'county, ca' in str_in:\n",
    "            str_in = str_in.replace('county, ca', '')\n",
    "            str_in = str_in.strip()\n",
    "            output = str_in\n",
    "            \n",
    "        if 'county' in str_in:\n",
    "            str_in = str_in.replace('county', '')\n",
    "            str_in = str_in.strip()\n",
    "            output = str_in\n",
    "            \n",
    "            \n",
    "    except:\n",
    "        output = np.nan\n",
    "        \n",
    "    return output"
   ]
  },
  {
   "cell_type": "markdown",
   "metadata": {},
   "source": [
    "# Data Analysis & Results (EDA)"
   ]
  },
  {
   "cell_type": "markdown",
   "metadata": {},
   "source": [
    "Carry out EDA on your dataset(s); Describe in this section"
   ]
  },
  {
   "cell_type": "code",
   "execution_count": 3,
   "metadata": {},
   "outputs": [],
   "source": [
    "## YOUR CODE HERE\n",
    "## FEEL FREE TO ADD MULTIPLE CELLS PER SECTION"
   ]
  }
 ],
 "metadata": {
  "kernelspec": {
   "display_name": "Python 3 (ipykernel)",
   "language": "python",
   "name": "python3"
  },
  "language_info": {
   "codemirror_mode": {
    "name": "ipython",
    "version": 3
   },
   "file_extension": ".py",
   "mimetype": "text/x-python",
   "name": "python",
   "nbconvert_exporter": "python",
   "pygments_lexer": "ipython3",
   "version": "3.9.5"
  }
 },
 "nbformat": 4,
 "nbformat_minor": 2
}
