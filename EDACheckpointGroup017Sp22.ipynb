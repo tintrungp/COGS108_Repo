{
 "cells": [
  {
   "cell_type": "markdown",
   "metadata": {},
   "source": [
    "# COGS 108 - EDA Checkpoint"
   ]
  },
  {
   "cell_type": "markdown",
   "metadata": {},
   "source": [
    "# Names\n",
    "\n",
    "- Nilou Shahbandi\n",
    "- Leonardo Gonzalez\n",
    "- Brian Chen\n",
    "- Tin-Trung Pham\n",
    "- Zhongkang(ken) Fang"
   ]
  },
  {
   "cell_type": "markdown",
   "metadata": {},
   "source": [
    "<a id='research_question'></a>\n",
    "# Research Question"
   ]
  },
  {
   "cell_type": "markdown",
   "metadata": {},
   "source": [
    "*How do different pollutants in California impact the rate of cancer in individuals, and how does pollutants affect rate of Asthma?*"
   ]
  },
  {
   "cell_type": "markdown",
   "metadata": {},
   "source": [
    "# Setup"
   ]
  },
  {
   "cell_type": "code",
   "execution_count": 28,
   "metadata": {},
   "outputs": [],
   "source": [
    "## YOUR CODE HERE\n",
    "import pandas as pd \n",
    "import numpy as np\n",
    "import matplotlib.pyplot as plt\n",
    "import matplotlib.style as style\n",
    "\n",
    "import seaborn as sns\n",
    "\n"
   ]
  },
  {
   "cell_type": "code",
   "execution_count": 29,
   "metadata": {},
   "outputs": [],
   "source": [
    "aqi_2010 = pd.read_csv('data/aqireport2010.csv')\n",
    "county_cancer = pd.read_csv('data/countyCancer.csv')\n",
    "asthma = asthma = pd.read_csv('data/Asthma.csv')"
   ]
  },
  {
   "cell_type": "markdown",
   "metadata": {},
   "source": [
    "# Data Cleaning"
   ]
  },
  {
   "cell_type": "markdown",
   "metadata": {},
   "source": [
    "Describe your data cleaning steps here."
   ]
  },
  {
   "cell_type": "code",
   "execution_count": 30,
   "metadata": {},
   "outputs": [],
   "source": [
    "## YOUR CODE HERE\n",
    "## FEEL FREE TO ADD MULTIPLE CELLS PER SECTION"
   ]
  },
  {
   "cell_type": "code",
   "execution_count": 31,
   "metadata": {},
   "outputs": [],
   "source": [
    "# Data cleaning for AQI_2010\n",
    "\n",
    "def standardize_region(str_in):\n",
    "    \n",
    "    try:\n",
    "        str_in = str_in.lower()\n",
    "        str_in = str_in.strip()\n",
    "        output = str_in\n",
    "\n",
    "        if 'county, ca' in str_in:\n",
    "            str_in = str_in.replace('county, ca', '')\n",
    "            str_in = str_in.strip()\n",
    "            output = str_in\n",
    "            \n",
    "        if 'county' in str_in:\n",
    "            str_in = str_in.replace('county', '')\n",
    "            str_in = str_in.strip()\n",
    "            output = str_in\n",
    "            \n",
    "            \n",
    "    except:\n",
    "        output = np.nan\n",
    "        \n",
    "    return output\n",
    "\n"
   ]
  },
  {
   "cell_type": "code",
   "execution_count": 32,
   "metadata": {},
   "outputs": [
    {
     "data": {
      "text/html": [
       "<div>\n",
       "<style scoped>\n",
       "    .dataframe tbody tr th:only-of-type {\n",
       "        vertical-align: middle;\n",
       "    }\n",
       "\n",
       "    .dataframe tbody tr th {\n",
       "        vertical-align: top;\n",
       "    }\n",
       "\n",
       "    .dataframe thead th {\n",
       "        text-align: right;\n",
       "    }\n",
       "</style>\n",
       "<table border=\"1\" class=\"dataframe\">\n",
       "  <thead>\n",
       "    <tr style=\"text-align: right;\">\n",
       "      <th></th>\n",
       "      <th>county</th>\n",
       "      <th>Good days</th>\n",
       "      <th>Unhealthy days</th>\n",
       "      <th>AQI 90th Percentile</th>\n",
       "      <th>AQI Median</th>\n",
       "    </tr>\n",
       "  </thead>\n",
       "  <tbody>\n",
       "    <tr>\n",
       "      <th>0</th>\n",
       "      <td>alameda</td>\n",
       "      <td>245</td>\n",
       "      <td>4</td>\n",
       "      <td>68.0</td>\n",
       "      <td>43.0</td>\n",
       "    </tr>\n",
       "    <tr>\n",
       "      <th>1</th>\n",
       "      <td>amador</td>\n",
       "      <td>302</td>\n",
       "      <td>10</td>\n",
       "      <td>64.0</td>\n",
       "      <td>35.0</td>\n",
       "    </tr>\n",
       "    <tr>\n",
       "      <th>2</th>\n",
       "      <td>butte</td>\n",
       "      <td>208</td>\n",
       "      <td>13</td>\n",
       "      <td>84.0</td>\n",
       "      <td>47.0</td>\n",
       "    </tr>\n",
       "    <tr>\n",
       "      <th>3</th>\n",
       "      <td>calaveras</td>\n",
       "      <td>271</td>\n",
       "      <td>12</td>\n",
       "      <td>84.0</td>\n",
       "      <td>41.0</td>\n",
       "    </tr>\n",
       "    <tr>\n",
       "      <th>4</th>\n",
       "      <td>colusa</td>\n",
       "      <td>322</td>\n",
       "      <td>1</td>\n",
       "      <td>49.0</td>\n",
       "      <td>38.0</td>\n",
       "    </tr>\n",
       "  </tbody>\n",
       "</table>\n",
       "</div>"
      ],
      "text/plain": [
       "      county  Good days Unhealthy days  AQI 90th Percentile  AQI Median\n",
       "0    alameda        245              4                 68.0        43.0\n",
       "1     amador        302             10                 64.0        35.0\n",
       "2      butte        208             13                 84.0        47.0\n",
       "3  calaveras        271             12                 84.0        41.0\n",
       "4     colusa        322              1                 49.0        38.0"
      ]
     },
     "execution_count": 32,
     "metadata": {},
     "output_type": "execute_result"
    }
   ],
   "source": [
    "# Data cleaning for AQI_2010 continued\n",
    "aqi_2010.drop(['# Days with AQI', 'Moderate', 'Unhealthy', 'Very Unhealthy', 'County Code',\n",
    "                'Hazardous', 'AQI Maximum', '# Days CO', '# Days NO2', '# Days O3', '# Days PM2.5', '# Days PM10'  ], \n",
    "                 inplace = True, axis=1)\n",
    "aqi_2010.columns = ['county', 'Good days', 'Unhealthy days', 'AQI 90th Percentile', 'AQI Median']\n",
    "aqi_2010['county'] = aqi_2010['county'].apply(standardize_region)\n",
    "aqi_2010.head()"
   ]
  },
  {
   "cell_type": "code",
   "execution_count": 33,
   "metadata": {},
   "outputs": [
    {
     "data": {
      "text/html": [
       "<div>\n",
       "<style scoped>\n",
       "    .dataframe tbody tr th:only-of-type {\n",
       "        vertical-align: middle;\n",
       "    }\n",
       "\n",
       "    .dataframe tbody tr th {\n",
       "        vertical-align: top;\n",
       "    }\n",
       "\n",
       "    .dataframe thead th {\n",
       "        text-align: right;\n",
       "    }\n",
       "</style>\n",
       "<table border=\"1\" class=\"dataframe\">\n",
       "  <thead>\n",
       "    <tr style=\"text-align: right;\">\n",
       "      <th></th>\n",
       "      <th>county</th>\n",
       "      <th>rate per 100,000</th>\n",
       "      <th>count</th>\n",
       "    </tr>\n",
       "  </thead>\n",
       "  <tbody>\n",
       "    <tr>\n",
       "      <th>0</th>\n",
       "      <td>alameda</td>\n",
       "      <td>44.8118</td>\n",
       "      <td>646</td>\n",
       "    </tr>\n",
       "    <tr>\n",
       "      <th>1</th>\n",
       "      <td>butte</td>\n",
       "      <td>63.0616</td>\n",
       "      <td>171</td>\n",
       "    </tr>\n",
       "    <tr>\n",
       "      <th>2</th>\n",
       "      <td>contra costa</td>\n",
       "      <td>50.2429</td>\n",
       "      <td>536</td>\n",
       "    </tr>\n",
       "    <tr>\n",
       "      <th>3</th>\n",
       "      <td>el dorado</td>\n",
       "      <td>54.2364</td>\n",
       "      <td>124</td>\n",
       "    </tr>\n",
       "    <tr>\n",
       "      <th>4</th>\n",
       "      <td>fresno</td>\n",
       "      <td>51.7782</td>\n",
       "      <td>401</td>\n",
       "    </tr>\n",
       "  </tbody>\n",
       "</table>\n",
       "</div>"
      ],
      "text/plain": [
       "         county rate per 100,000 count\n",
       "0       alameda          44.8118   646\n",
       "1         butte          63.0616   171\n",
       "2  contra costa          50.2429   536\n",
       "3     el dorado          54.2364   124\n",
       "4        fresno          51.7782   401"
      ]
     },
     "execution_count": 33,
     "metadata": {},
     "output_type": "execute_result"
    }
   ],
   "source": [
    "# Data Cleaning for county_cancer_2010\n",
    "# filter year 2010\n",
    "county_cancer_2010 = county_cancer[county_cancer['Year'] == 2010]\n",
    "county_cancer_2010 = county_cancer_2010[county_cancer_2010['Age'] == 'All Ages']\n",
    "county_cancer_2010.drop(['Sex', 'Race/Ethnicity', 'Age', 'Stage at Diagnosis', 'Age-adjusted Rate Standard Error', 'Year',\n",
    "                         'Age-adjusted Rate Lower Confidence Interval', 'Age-adjusted Rate Upper Confidence Interval'], \n",
    "                 inplace = True, axis=1)\n",
    "county_cancer_2010['California Region'] = county_cancer_2010['California Region'].apply(standardize_region)\n",
    "county_cancer_2010.columns = ['county', 'rate per 100,000', 'count']\n",
    "county_cancer_2010.head()"
   ]
  },
  {
   "cell_type": "code",
   "execution_count": 34,
   "metadata": {},
   "outputs": [],
   "source": [
    "county_cancer_2010.dtypes\n",
    "county_cancer_2010['rate per 100,000'] = county_cancer_2010['rate per 100,000'].astype(float)\n",
    "county_cancer_2010['count'] = county_cancer_2010['count'].astype(int)"
   ]
  },
  {
   "cell_type": "code",
   "execution_count": 35,
   "metadata": {},
   "outputs": [
    {
     "data": {
      "text/html": [
       "<div>\n",
       "<style scoped>\n",
       "    .dataframe tbody tr th:only-of-type {\n",
       "        vertical-align: middle;\n",
       "    }\n",
       "\n",
       "    .dataframe tbody tr th {\n",
       "        vertical-align: top;\n",
       "    }\n",
       "\n",
       "    .dataframe thead th {\n",
       "        text-align: right;\n",
       "    }\n",
       "</style>\n",
       "<table border=\"1\" class=\"dataframe\">\n",
       "  <thead>\n",
       "    <tr style=\"text-align: right;\">\n",
       "      <th></th>\n",
       "      <th>county</th>\n",
       "      <th>rate per 100,000</th>\n",
       "      <th>count</th>\n",
       "      <th>Good days</th>\n",
       "      <th>Unhealthy days</th>\n",
       "      <th>AQI 90th Percentile</th>\n",
       "      <th>AQI Median</th>\n",
       "    </tr>\n",
       "  </thead>\n",
       "  <tbody>\n",
       "    <tr>\n",
       "      <th>0</th>\n",
       "      <td>alameda</td>\n",
       "      <td>44.8118</td>\n",
       "      <td>646</td>\n",
       "      <td>245</td>\n",
       "      <td>4</td>\n",
       "      <td>68.0</td>\n",
       "      <td>43.0</td>\n",
       "    </tr>\n",
       "    <tr>\n",
       "      <th>1</th>\n",
       "      <td>butte</td>\n",
       "      <td>63.0616</td>\n",
       "      <td>171</td>\n",
       "      <td>208</td>\n",
       "      <td>13</td>\n",
       "      <td>84.0</td>\n",
       "      <td>47.0</td>\n",
       "    </tr>\n",
       "    <tr>\n",
       "      <th>2</th>\n",
       "      <td>contra costa</td>\n",
       "      <td>50.2429</td>\n",
       "      <td>536</td>\n",
       "      <td>307</td>\n",
       "      <td>8</td>\n",
       "      <td>64.0</td>\n",
       "      <td>39.0</td>\n",
       "    </tr>\n",
       "    <tr>\n",
       "      <th>3</th>\n",
       "      <td>el dorado</td>\n",
       "      <td>54.2364</td>\n",
       "      <td>124</td>\n",
       "      <td>251</td>\n",
       "      <td>23</td>\n",
       "      <td>93.0</td>\n",
       "      <td>42.0</td>\n",
       "    </tr>\n",
       "    <tr>\n",
       "      <th>4</th>\n",
       "      <td>fresno</td>\n",
       "      <td>51.7782</td>\n",
       "      <td>401</td>\n",
       "      <td>99</td>\n",
       "      <td>65</td>\n",
       "      <td>130.0</td>\n",
       "      <td>70.0</td>\n",
       "    </tr>\n",
       "  </tbody>\n",
       "</table>\n",
       "</div>"
      ],
      "text/plain": [
       "         county  rate per 100,000  count  Good days Unhealthy days  \\\n",
       "0       alameda           44.8118    646        245              4   \n",
       "1         butte           63.0616    171        208             13   \n",
       "2  contra costa           50.2429    536        307              8   \n",
       "3     el dorado           54.2364    124        251             23   \n",
       "4        fresno           51.7782    401         99             65   \n",
       "\n",
       "   AQI 90th Percentile  AQI Median  \n",
       "0                 68.0        43.0  \n",
       "1                 84.0        47.0  \n",
       "2                 64.0        39.0  \n",
       "3                 93.0        42.0  \n",
       "4                130.0        70.0  "
      ]
     },
     "execution_count": 35,
     "metadata": {},
     "output_type": "execute_result"
    }
   ],
   "source": [
    "# combine aqi and cancer data\n",
    "# year: 2010\n",
    "\n",
    "# drop the county with combined cancer value\n",
    "# we drop them instead of taking the average because there are significant differences for the AQI values \n",
    "county_cancer_2010 = county_cancer_2010.drop(county_cancer_2010.index[39:47])\n",
    "\n",
    "\n",
    "aqi_cancer_2010 = pd.merge(county_cancer_2010, aqi_2010, on='county')\n",
    "aqi_cancer_2010.head()"
   ]
  },
  {
   "cell_type": "code",
   "execution_count": 36,
   "metadata": {},
   "outputs": [],
   "source": [
    "def standardize_region(str_in):\n",
    "    \n",
    "    try:\n",
    "        str_in = str_in.lower()\n",
    "        str_in = str_in.strip()\n",
    "        output = str_in\n",
    "\n",
    "        if 'county, ca' in str_in:\n",
    "            str_in = str_in.replace('county, ca', '')\n",
    "            str_in = str_in.strip()\n",
    "            output = str_in\n",
    "            \n",
    "        if 'county' in str_in:\n",
    "            str_in = str_in.replace('county', '')\n",
    "            str_in = str_in.strip()\n",
    "            output = str_in\n",
    "            \n",
    "            \n",
    "    except:\n",
    "        output = np.nan\n",
    "        \n",
    "    return output"
   ]
  },
  {
   "cell_type": "code",
   "execution_count": 37,
   "metadata": {
    "scrolled": true
   },
   "outputs": [],
   "source": [
    "# data cleaning for asthma \n",
    "asthma.columns = asthma.columns.str.lower()\n",
    "\n",
    "asthma = asthma.rename(columns={\"childcount\": \"child\", \"percent\": \"child_percent\", \"adultcount\": \"adult\",'percent.1': 'adult_percent'})\n",
    "\n",
    "asthma = asthma.fillna(2018)\n",
    "asthma[\"year\"] = asthma[\"year\"].astype(int)"
   ]
  },
  {
   "cell_type": "code",
   "execution_count": 38,
   "metadata": {
    "scrolled": true
   },
   "outputs": [
    {
     "data": {
      "text/plain": [
       "state            object\n",
       "child            object\n",
       "child_percent    object\n",
       "year              int64\n",
       "adult            object\n",
       "adult_percent    object\n",
       "dtype: object"
      ]
     },
     "execution_count": 38,
     "metadata": {},
     "output_type": "execute_result"
    }
   ],
   "source": [
    "asthma.dtypes"
   ]
  },
  {
   "cell_type": "code",
   "execution_count": 39,
   "metadata": {},
   "outputs": [],
   "source": [
    "# taking out commas and percent signs\n",
    "asthma['child']= asthma['child'].str.replace(',', '')\n",
    "asthma['adult']= asthma['adult'].str.replace(',', '')\n",
    "asthma['child_percent']= asthma['child_percent'].str.replace('%', '')\n",
    "asthma['adult_percent']= asthma['adult_percent'].str.replace('%', '')\n",
    "\n",
    "# function to remove empty values\n",
    "def standardize_asthma(string):\n",
    "    if string == '---':\n",
    "        string = np.nan\n",
    "\n",
    "    return string"
   ]
  },
  {
   "cell_type": "code",
   "execution_count": 40,
   "metadata": {},
   "outputs": [
    {
     "data": {
      "text/html": [
       "<div>\n",
       "<style scoped>\n",
       "    .dataframe tbody tr th:only-of-type {\n",
       "        vertical-align: middle;\n",
       "    }\n",
       "\n",
       "    .dataframe tbody tr th {\n",
       "        vertical-align: top;\n",
       "    }\n",
       "\n",
       "    .dataframe thead th {\n",
       "        text-align: right;\n",
       "    }\n",
       "</style>\n",
       "<table border=\"1\" class=\"dataframe\">\n",
       "  <thead>\n",
       "    <tr style=\"text-align: right;\">\n",
       "      <th></th>\n",
       "      <th>state</th>\n",
       "      <th>child</th>\n",
       "      <th>child_percent</th>\n",
       "      <th>year</th>\n",
       "      <th>adult</th>\n",
       "      <th>adult_percent</th>\n",
       "    </tr>\n",
       "  </thead>\n",
       "  <tbody>\n",
       "    <tr>\n",
       "      <th>0</th>\n",
       "      <td>Alabama</td>\n",
       "      <td>141500</td>\n",
       "      <td>13.20</td>\n",
       "      <td>2014</td>\n",
       "      <td>394600</td>\n",
       "      <td>10.50</td>\n",
       "    </tr>\n",
       "    <tr>\n",
       "      <th>2</th>\n",
       "      <td>Arizona</td>\n",
       "      <td>129200</td>\n",
       "      <td>8.10</td>\n",
       "      <td>2016</td>\n",
       "      <td>545100</td>\n",
       "      <td>10.00</td>\n",
       "    </tr>\n",
       "    <tr>\n",
       "      <th>4</th>\n",
       "      <td>California</td>\n",
       "      <td>542700</td>\n",
       "      <td>6.20</td>\n",
       "      <td>2018</td>\n",
       "      <td>2607600</td>\n",
       "      <td>8.50</td>\n",
       "    </tr>\n",
       "    <tr>\n",
       "      <th>6</th>\n",
       "      <td>Connecticut</td>\n",
       "      <td>62400</td>\n",
       "      <td>9.70</td>\n",
       "      <td>2018</td>\n",
       "      <td>290300</td>\n",
       "      <td>10.30</td>\n",
       "    </tr>\n",
       "    <tr>\n",
       "      <th>8</th>\n",
       "      <td>District of Columbia</td>\n",
       "      <td>12700</td>\n",
       "      <td>10.90</td>\n",
       "      <td>2018</td>\n",
       "      <td>66400</td>\n",
       "      <td>11.60</td>\n",
       "    </tr>\n",
       "  </tbody>\n",
       "</table>\n",
       "</div>"
      ],
      "text/plain": [
       "                  state   child child_percent  year    adult adult_percent\n",
       "0               Alabama  141500         13.20  2014   394600         10.50\n",
       "2               Arizona  129200          8.10  2016   545100         10.00\n",
       "4            California  542700          6.20  2018  2607600          8.50\n",
       "6           Connecticut   62400          9.70  2018   290300         10.30\n",
       "8  District of Columbia   12700         10.90  2018    66400         11.60"
      ]
     },
     "execution_count": 40,
     "metadata": {},
     "output_type": "execute_result"
    }
   ],
   "source": [
    "asthma['child'] = asthma['child'].apply(standardize_asthma)\n",
    "asthma = asthma.dropna(subset=['child'])\n",
    "\n",
    "asthma.head()"
   ]
  },
  {
   "cell_type": "code",
   "execution_count": 41,
   "metadata": {},
   "outputs": [
    {
     "data": {
      "text/html": [
       "<div>\n",
       "<style scoped>\n",
       "    .dataframe tbody tr th:only-of-type {\n",
       "        vertical-align: middle;\n",
       "    }\n",
       "\n",
       "    .dataframe tbody tr th {\n",
       "        vertical-align: top;\n",
       "    }\n",
       "\n",
       "    .dataframe thead th {\n",
       "        text-align: right;\n",
       "    }\n",
       "</style>\n",
       "<table border=\"1\" class=\"dataframe\">\n",
       "  <thead>\n",
       "    <tr style=\"text-align: right;\">\n",
       "      <th></th>\n",
       "      <th>state</th>\n",
       "      <th>child</th>\n",
       "      <th>child_percent</th>\n",
       "      <th>year</th>\n",
       "      <th>adult</th>\n",
       "      <th>adult_percent</th>\n",
       "    </tr>\n",
       "  </thead>\n",
       "  <tbody>\n",
       "    <tr>\n",
       "      <th>0</th>\n",
       "      <td>Alabama</td>\n",
       "      <td>141500.0</td>\n",
       "      <td>13.2</td>\n",
       "      <td>2014</td>\n",
       "      <td>394600.0</td>\n",
       "      <td>10.5</td>\n",
       "    </tr>\n",
       "    <tr>\n",
       "      <th>2</th>\n",
       "      <td>Arizona</td>\n",
       "      <td>129200.0</td>\n",
       "      <td>8.1</td>\n",
       "      <td>2016</td>\n",
       "      <td>545100.0</td>\n",
       "      <td>10.0</td>\n",
       "    </tr>\n",
       "    <tr>\n",
       "      <th>4</th>\n",
       "      <td>California</td>\n",
       "      <td>542700.0</td>\n",
       "      <td>6.2</td>\n",
       "      <td>2018</td>\n",
       "      <td>2607600.0</td>\n",
       "      <td>8.5</td>\n",
       "    </tr>\n",
       "    <tr>\n",
       "      <th>6</th>\n",
       "      <td>Connecticut</td>\n",
       "      <td>62400.0</td>\n",
       "      <td>9.7</td>\n",
       "      <td>2018</td>\n",
       "      <td>290300.0</td>\n",
       "      <td>10.3</td>\n",
       "    </tr>\n",
       "    <tr>\n",
       "      <th>8</th>\n",
       "      <td>District of Columbia</td>\n",
       "      <td>12700.0</td>\n",
       "      <td>10.9</td>\n",
       "      <td>2018</td>\n",
       "      <td>66400.0</td>\n",
       "      <td>11.6</td>\n",
       "    </tr>\n",
       "  </tbody>\n",
       "</table>\n",
       "</div>"
      ],
      "text/plain": [
       "                  state     child  child_percent  year      adult  \\\n",
       "0               Alabama  141500.0           13.2  2014   394600.0   \n",
       "2               Arizona  129200.0            8.1  2016   545100.0   \n",
       "4            California  542700.0            6.2  2018  2607600.0   \n",
       "6           Connecticut   62400.0            9.7  2018   290300.0   \n",
       "8  District of Columbia   12700.0           10.9  2018    66400.0   \n",
       "\n",
       "   adult_percent  \n",
       "0           10.5  \n",
       "2           10.0  \n",
       "4            8.5  \n",
       "6           10.3  \n",
       "8           11.6  "
      ]
     },
     "execution_count": 41,
     "metadata": {},
     "output_type": "execute_result"
    }
   ],
   "source": [
    "# converting from string to a float\n",
    "asthma['child']= asthma['child'].astype(float)\n",
    "asthma['adult']= asthma['adult'].astype(float)\n",
    "asthma['child_percent']= asthma['child_percent'].astype(float)\n",
    "asthma['adult_percent']= asthma['adult_percent'].astype(float)\n",
    "asthma.head()"
   ]
  },
  {
   "cell_type": "markdown",
   "metadata": {},
   "source": [
    "# Data Analysis & Results (EDA)"
   ]
  },
  {
   "cell_type": "markdown",
   "metadata": {},
   "source": [
    "Carry out EDA on your dataset(s); Describe in this section"
   ]
  },
  {
   "cell_type": "code",
   "execution_count": 42,
   "metadata": {},
   "outputs": [],
   "source": [
    "## YOUR CODE HERE\n",
    "## FEEL FREE TO ADD MULTIPLE CELLS PER SECTION"
   ]
  },
  {
   "cell_type": "code",
   "execution_count": null,
   "metadata": {},
   "outputs": [],
   "source": [
    "asthma.describe()"
   ]
  },
  {
   "cell_type": "code",
   "execution_count": null,
   "metadata": {},
   "outputs": [],
   "source": [
    "asthma.groupby('year').describe()"
   ]
  },
  {
   "cell_type": "code",
   "execution_count": null,
   "metadata": {},
   "outputs": [],
   "source": [
    "sns.lineplot(x='year', y= 'child', data= asthma)"
   ]
  },
  {
   "cell_type": "code",
   "execution_count": null,
   "metadata": {},
   "outputs": [],
   "source": [
    "sns.lineplot(x='year', y= 'adult', data= asthma)"
   ]
  },
  {
   "cell_type": "markdown",
   "metadata": {},
   "source": [
    "### Descriptive Data Analysis (Cancer)"
   ]
  },
  {
   "cell_type": "code",
   "execution_count": 26,
   "metadata": {},
   "outputs": [
    {
     "data": {
      "text/plain": [
       "(39, 3)"
      ]
     },
     "execution_count": 26,
     "metadata": {},
     "output_type": "execute_result"
    }
   ],
   "source": [
    "county_cancer_2010.shape"
   ]
  },
  {
   "cell_type": "markdown",
   "metadata": {},
   "source": [
    "In this data set from 2010, it lists the rates and counts of lung and bronchus cancer from counties in California. However, due to small sample sizes in certain counties, 39 counties are listed in this dataset."
   ]
  },
  {
   "cell_type": "code",
   "execution_count": 43,
   "metadata": {},
   "outputs": [
    {
     "data": {
      "text/html": [
       "<div>\n",
       "<style scoped>\n",
       "    .dataframe tbody tr th:only-of-type {\n",
       "        vertical-align: middle;\n",
       "    }\n",
       "\n",
       "    .dataframe tbody tr th {\n",
       "        vertical-align: top;\n",
       "    }\n",
       "\n",
       "    .dataframe thead th {\n",
       "        text-align: right;\n",
       "    }\n",
       "</style>\n",
       "<table border=\"1\" class=\"dataframe\">\n",
       "  <thead>\n",
       "    <tr style=\"text-align: right;\">\n",
       "      <th></th>\n",
       "      <th>rate per 100,000</th>\n",
       "      <th>count</th>\n",
       "    </tr>\n",
       "  </thead>\n",
       "  <tbody>\n",
       "    <tr>\n",
       "      <th>count</th>\n",
       "      <td>39.000000</td>\n",
       "      <td>39.000000</td>\n",
       "    </tr>\n",
       "    <tr>\n",
       "      <th>mean</th>\n",
       "      <td>50.203936</td>\n",
       "      <td>416.897436</td>\n",
       "    </tr>\n",
       "    <tr>\n",
       "      <th>std</th>\n",
       "      <td>8.513769</td>\n",
       "      <td>636.448154</td>\n",
       "    </tr>\n",
       "    <tr>\n",
       "      <th>min</th>\n",
       "      <td>32.617200</td>\n",
       "      <td>18.000000</td>\n",
       "    </tr>\n",
       "    <tr>\n",
       "      <th>25%</th>\n",
       "      <td>44.540850</td>\n",
       "      <td>88.500000</td>\n",
       "    </tr>\n",
       "    <tr>\n",
       "      <th>50%</th>\n",
       "      <td>50.242900</td>\n",
       "      <td>198.000000</td>\n",
       "    </tr>\n",
       "    <tr>\n",
       "      <th>75%</th>\n",
       "      <td>54.977300</td>\n",
       "      <td>434.000000</td>\n",
       "    </tr>\n",
       "    <tr>\n",
       "      <th>max</th>\n",
       "      <td>68.252400</td>\n",
       "      <td>3688.000000</td>\n",
       "    </tr>\n",
       "  </tbody>\n",
       "</table>\n",
       "</div>"
      ],
      "text/plain": [
       "       rate per 100,000        count\n",
       "count         39.000000    39.000000\n",
       "mean          50.203936   416.897436\n",
       "std            8.513769   636.448154\n",
       "min           32.617200    18.000000\n",
       "25%           44.540850    88.500000\n",
       "50%           50.242900   198.000000\n",
       "75%           54.977300   434.000000\n",
       "max           68.252400  3688.000000"
      ]
     },
     "execution_count": 43,
     "metadata": {},
     "output_type": "execute_result"
    }
   ],
   "source": [
    "county_cancer_2010.describe()"
   ]
  },
  {
   "cell_type": "markdown",
   "metadata": {},
   "source": [
    "Across these 39 listed counties, we can see that the mean cancer rate is 50.2 cases per 100,000 people. This equates roughly to 417 individuals. It's important to note that there is a small standard deviation in the number of cases (8.5) but a large deviation in the counts (636). "
   ]
  },
  {
   "cell_type": "markdown",
   "metadata": {},
   "source": [
    "### Exploratory Data Analysis (Cancer)"
   ]
  },
  {
   "cell_type": "code",
   "execution_count": 47,
   "metadata": {},
   "outputs": [
    {
     "data": {
      "text/html": [
       "<div>\n",
       "<style scoped>\n",
       "    .dataframe tbody tr th:only-of-type {\n",
       "        vertical-align: middle;\n",
       "    }\n",
       "\n",
       "    .dataframe tbody tr th {\n",
       "        vertical-align: top;\n",
       "    }\n",
       "\n",
       "    .dataframe thead th {\n",
       "        text-align: right;\n",
       "    }\n",
       "</style>\n",
       "<table border=\"1\" class=\"dataframe\">\n",
       "  <thead>\n",
       "    <tr style=\"text-align: right;\">\n",
       "      <th></th>\n",
       "      <th>county</th>\n",
       "      <th>rate per 100,000</th>\n",
       "      <th>count</th>\n",
       "    </tr>\n",
       "  </thead>\n",
       "  <tbody>\n",
       "    <tr>\n",
       "      <th>0</th>\n",
       "      <td>alameda</td>\n",
       "      <td>44.8118</td>\n",
       "      <td>646</td>\n",
       "    </tr>\n",
       "    <tr>\n",
       "      <th>1</th>\n",
       "      <td>butte</td>\n",
       "      <td>63.0616</td>\n",
       "      <td>171</td>\n",
       "    </tr>\n",
       "    <tr>\n",
       "      <th>2</th>\n",
       "      <td>contra costa</td>\n",
       "      <td>50.2429</td>\n",
       "      <td>536</td>\n",
       "    </tr>\n",
       "    <tr>\n",
       "      <th>3</th>\n",
       "      <td>el dorado</td>\n",
       "      <td>54.2364</td>\n",
       "      <td>124</td>\n",
       "    </tr>\n",
       "    <tr>\n",
       "      <th>4</th>\n",
       "      <td>fresno</td>\n",
       "      <td>51.7782</td>\n",
       "      <td>401</td>\n",
       "    </tr>\n",
       "  </tbody>\n",
       "</table>\n",
       "</div>"
      ],
      "text/plain": [
       "         county  rate per 100,000  count\n",
       "0       alameda           44.8118    646\n",
       "1         butte           63.0616    171\n",
       "2  contra costa           50.2429    536\n",
       "3     el dorado           54.2364    124\n",
       "4        fresno           51.7782    401"
      ]
     },
     "execution_count": 47,
     "metadata": {},
     "output_type": "execute_result"
    }
   ],
   "source": [
    "county_cancer_2010.head()"
   ]
  },
  {
   "cell_type": "code",
   "execution_count": 53,
   "metadata": {},
   "outputs": [
    {
     "data": {
      "image/png": "[encoded data removed]",
      "text/plain": [
       "<Figure size 1080x576 with 1 Axes>"
      ]
     },
     "metadata": {},
     "output_type": "display_data"
    }
   ],
   "source": [
    "sns.set(rc = {'figure.figsize':(15,8)})\n",
    "cc_2010_plot = sns.barplot(x ='county',y = 'rate per 100,000', data = county_cancer_2010)\n",
    "cc_2010_plot.set_xticklabels(county_cancer_2010['county'], rotation = 70);"
   ]
  },
  {
   "cell_type": "markdown",
   "metadata": {},
   "source": [
    "It is nice to see that generally across the 39 listed counties, the rates are relatively close. There are noticeable outliers in our data, but it is clear a few counties such as Butte, Lake, San Joaquin, and Stanislaus rank among the highest in cancer rate."
   ]
  },
  {
   "cell_type": "code",
   "execution_count": 56,
   "metadata": {},
   "outputs": [
    {
     "data": {
      "image/png": "[encoded data removed]",
      "text/plain": [
       "<Figure size 1080x576 with 1 Axes>"
      ]
     },
     "metadata": {},
     "output_type": "display_data"
    }
   ],
   "source": [
    "sns.set(rc = {'figure.figsize':(15,8)})\n",
    "cc_2010_count_plot = sns.barplot(x ='county',y = 'count', data = county_cancer_2010)\n",
    "cc_2010_count_plot.set_xticklabels(county_cancer_2010['county'], rotation = 70);"
   ]
  },
  {
   "cell_type": "markdown",
   "metadata": {},
   "source": [
    "From this plot, we can see that Los Angeles has a lung and bronchus cancer rate that skyrockets far above the other counties. However, it's rate is not sur"
   ]
  },
  {
   "cell_type": "markdown",
   "metadata": {},
   "source": [
    "### Descriptive Data Analysis(AQI)\n"
   ]
  },
  {
   "cell_type": "code",
   "execution_count": 44,
   "metadata": {},
   "outputs": [
    {
     "data": {
      "text/html": [
       "<div>\n",
       "<style scoped>\n",
       "    .dataframe tbody tr th:only-of-type {\n",
       "        vertical-align: middle;\n",
       "    }\n",
       "\n",
       "    .dataframe tbody tr th {\n",
       "        vertical-align: top;\n",
       "    }\n",
       "\n",
       "    .dataframe thead th {\n",
       "        text-align: right;\n",
       "    }\n",
       "</style>\n",
       "<table border=\"1\" class=\"dataframe\">\n",
       "  <thead>\n",
       "    <tr style=\"text-align: right;\">\n",
       "      <th></th>\n",
       "      <th>County Code</th>\n",
       "      <th>County</th>\n",
       "      <th># Days with AQI</th>\n",
       "      <th>Good</th>\n",
       "      <th>Moderate</th>\n",
       "      <th>Unhealthy for Sensitive Groups</th>\n",
       "      <th>Unhealthy</th>\n",
       "      <th>Very Unhealthy</th>\n",
       "      <th>Hazardous</th>\n",
       "      <th>AQI Maximum</th>\n",
       "      <th>AQI 90th Percentile</th>\n",
       "      <th>AQI Median</th>\n",
       "      <th># Days CO</th>\n",
       "      <th># Days NO2</th>\n",
       "      <th># Days O3</th>\n",
       "      <th># Days PM2.5</th>\n",
       "      <th># Days PM10</th>\n",
       "    </tr>\n",
       "  </thead>\n",
       "  <tbody>\n",
       "    <tr>\n",
       "      <th>0</th>\n",
       "      <td>6001</td>\n",
       "      <td>Alameda County, CA</td>\n",
       "      <td>365</td>\n",
       "      <td>245</td>\n",
       "      <td>115</td>\n",
       "      <td>4</td>\n",
       "      <td>1</td>\n",
       "      <td>.</td>\n",
       "      <td>.</td>\n",
       "      <td>179</td>\n",
       "      <td>68.0</td>\n",
       "      <td>43.0</td>\n",
       "      <td>.</td>\n",
       "      <td>24</td>\n",
       "      <td>135</td>\n",
       "      <td>206</td>\n",
       "      <td>.</td>\n",
       "    </tr>\n",
       "    <tr>\n",
       "      <th>1</th>\n",
       "      <td>6005</td>\n",
       "      <td>Amador County, CA</td>\n",
       "      <td>361</td>\n",
       "      <td>302</td>\n",
       "      <td>48</td>\n",
       "      <td>10</td>\n",
       "      <td>1</td>\n",
       "      <td>.</td>\n",
       "      <td>.</td>\n",
       "      <td>151</td>\n",
       "      <td>64.0</td>\n",
       "      <td>35.0</td>\n",
       "      <td>.</td>\n",
       "      <td>.</td>\n",
       "      <td>361</td>\n",
       "      <td>.</td>\n",
       "      <td>.</td>\n",
       "    </tr>\n",
       "    <tr>\n",
       "      <th>2</th>\n",
       "      <td>6007</td>\n",
       "      <td>Butte County, CA</td>\n",
       "      <td>365</td>\n",
       "      <td>208</td>\n",
       "      <td>144</td>\n",
       "      <td>13</td>\n",
       "      <td>.</td>\n",
       "      <td>.</td>\n",
       "      <td>.</td>\n",
       "      <td>126</td>\n",
       "      <td>84.0</td>\n",
       "      <td>47.0</td>\n",
       "      <td>.</td>\n",
       "      <td>.</td>\n",
       "      <td>264</td>\n",
       "      <td>101</td>\n",
       "      <td>.</td>\n",
       "    </tr>\n",
       "    <tr>\n",
       "      <th>3</th>\n",
       "      <td>6009</td>\n",
       "      <td>Calaveras County, CA</td>\n",
       "      <td>365</td>\n",
       "      <td>271</td>\n",
       "      <td>81</td>\n",
       "      <td>12</td>\n",
       "      <td>1</td>\n",
       "      <td>.</td>\n",
       "      <td>.</td>\n",
       "      <td>154</td>\n",
       "      <td>84.0</td>\n",
       "      <td>41.0</td>\n",
       "      <td>.</td>\n",
       "      <td>.</td>\n",
       "      <td>309</td>\n",
       "      <td>56</td>\n",
       "      <td>.</td>\n",
       "    </tr>\n",
       "    <tr>\n",
       "      <th>4</th>\n",
       "      <td>6011</td>\n",
       "      <td>Colusa County, CA</td>\n",
       "      <td>353</td>\n",
       "      <td>322</td>\n",
       "      <td>30</td>\n",
       "      <td>1</td>\n",
       "      <td>.</td>\n",
       "      <td>.</td>\n",
       "      <td>.</td>\n",
       "      <td>119</td>\n",
       "      <td>49.0</td>\n",
       "      <td>38.0</td>\n",
       "      <td>.</td>\n",
       "      <td>.</td>\n",
       "      <td>305</td>\n",
       "      <td>43</td>\n",
       "      <td>5</td>\n",
       "    </tr>\n",
       "  </tbody>\n",
       "</table>\n",
       "</div>"
      ],
      "text/plain": [
       "   County Code                County  # Days with AQI  Good Moderate  \\\n",
       "0         6001    Alameda County, CA              365   245      115   \n",
       "1         6005     Amador County, CA              361   302       48   \n",
       "2         6007      Butte County, CA              365   208      144   \n",
       "3         6009  Calaveras County, CA              365   271       81   \n",
       "4         6011     Colusa County, CA              353   322       30   \n",
       "\n",
       "  Unhealthy for Sensitive Groups Unhealthy Very Unhealthy Hazardous  \\\n",
       "0                              4         1              .         .   \n",
       "1                             10         1              .         .   \n",
       "2                             13         .              .         .   \n",
       "3                             12         1              .         .   \n",
       "4                              1         .              .         .   \n",
       "\n",
       "   AQI Maximum  AQI 90th Percentile  AQI Median # Days CO # Days NO2  \\\n",
       "0          179                 68.0        43.0         .         24   \n",
       "1          151                 64.0        35.0         .          .   \n",
       "2          126                 84.0        47.0         .          .   \n",
       "3          154                 84.0        41.0         .          .   \n",
       "4          119                 49.0        38.0         .          .   \n",
       "\n",
       "  # Days O3 # Days PM2.5 # Days PM10  \n",
       "0       135          206           .  \n",
       "1       361            .           .  \n",
       "2       264          101           .  \n",
       "3       309           56           .  \n",
       "4       305           43           5  "
      ]
     },
     "execution_count": 44,
     "metadata": {},
     "output_type": "execute_result"
    }
   ],
   "source": [
    "aqi = pd.read_csv('data/aqireport2010.csv')\n",
    "aqi.head()"
   ]
  },
  {
   "cell_type": "markdown",
   "metadata": {},
   "source": [
    "<br />\n",
    "We have a dataset from 53 different counties In California. Across these counties, the mean number of days in the year having AQI value 0 through 50 is 221.9 days. <br /><br />The median AQI value is 45.29. <br />\n",
    "90% of  daily AQI values during the year were less or equal to 80.59.\n",
    "\n",
    "<br />"
   ]
  },
  {
   "cell_type": "code",
   "execution_count": 45,
   "metadata": {},
   "outputs": [
    {
     "data": {
      "text/html": [
       "<div>\n",
       "<style scoped>\n",
       "    .dataframe tbody tr th:only-of-type {\n",
       "        vertical-align: middle;\n",
       "    }\n",
       "\n",
       "    .dataframe tbody tr th {\n",
       "        vertical-align: top;\n",
       "    }\n",
       "\n",
       "    .dataframe thead th {\n",
       "        text-align: right;\n",
       "    }\n",
       "</style>\n",
       "<table border=\"1\" class=\"dataframe\">\n",
       "  <thead>\n",
       "    <tr style=\"text-align: right;\">\n",
       "      <th></th>\n",
       "      <th>County Code</th>\n",
       "      <th># Days with AQI</th>\n",
       "      <th>Good</th>\n",
       "      <th>AQI Maximum</th>\n",
       "      <th>AQI 90th Percentile</th>\n",
       "      <th>AQI Median</th>\n",
       "    </tr>\n",
       "  </thead>\n",
       "  <tbody>\n",
       "    <tr>\n",
       "      <th>count</th>\n",
       "      <td>53.000000</td>\n",
       "      <td>53.000000</td>\n",
       "      <td>53.000000</td>\n",
       "      <td>53.000000</td>\n",
       "      <td>53.000000</td>\n",
       "      <td>53.000000</td>\n",
       "    </tr>\n",
       "    <tr>\n",
       "      <th>mean</th>\n",
       "      <td>6057.943396</td>\n",
       "      <td>350.396226</td>\n",
       "      <td>221.943396</td>\n",
       "      <td>305.603774</td>\n",
       "      <td>80.594340</td>\n",
       "      <td>45.292453</td>\n",
       "    </tr>\n",
       "    <tr>\n",
       "      <th>std</th>\n",
       "      <td>33.121231</td>\n",
       "      <td>57.358300</td>\n",
       "      <td>93.189719</td>\n",
       "      <td>810.730899</td>\n",
       "      <td>32.567542</td>\n",
       "      <td>15.517185</td>\n",
       "    </tr>\n",
       "    <tr>\n",
       "      <th>min</th>\n",
       "      <td>6001.000000</td>\n",
       "      <td>110.000000</td>\n",
       "      <td>31.000000</td>\n",
       "      <td>35.000000</td>\n",
       "      <td>21.000000</td>\n",
       "      <td>9.500000</td>\n",
       "    </tr>\n",
       "    <tr>\n",
       "      <th>25%</th>\n",
       "      <td>6029.000000</td>\n",
       "      <td>365.000000</td>\n",
       "      <td>163.000000</td>\n",
       "      <td>119.000000</td>\n",
       "      <td>58.000000</td>\n",
       "      <td>38.000000</td>\n",
       "    </tr>\n",
       "    <tr>\n",
       "      <th>50%</th>\n",
       "      <td>6059.000000</td>\n",
       "      <td>365.000000</td>\n",
       "      <td>248.000000</td>\n",
       "      <td>154.000000</td>\n",
       "      <td>80.000000</td>\n",
       "      <td>43.000000</td>\n",
       "    </tr>\n",
       "    <tr>\n",
       "      <th>75%</th>\n",
       "      <td>6085.000000</td>\n",
       "      <td>365.000000</td>\n",
       "      <td>295.000000</td>\n",
       "      <td>187.000000</td>\n",
       "      <td>93.000000</td>\n",
       "      <td>50.000000</td>\n",
       "    </tr>\n",
       "    <tr>\n",
       "      <th>max</th>\n",
       "      <td>6113.000000</td>\n",
       "      <td>365.000000</td>\n",
       "      <td>358.000000</td>\n",
       "      <td>4466.000000</td>\n",
       "      <td>164.000000</td>\n",
       "      <td>87.000000</td>\n",
       "    </tr>\n",
       "  </tbody>\n",
       "</table>\n",
       "</div>"
      ],
      "text/plain": [
       "       County Code  # Days with AQI        Good  AQI Maximum  \\\n",
       "count    53.000000        53.000000   53.000000    53.000000   \n",
       "mean   6057.943396       350.396226  221.943396   305.603774   \n",
       "std      33.121231        57.358300   93.189719   810.730899   \n",
       "min    6001.000000       110.000000   31.000000    35.000000   \n",
       "25%    6029.000000       365.000000  163.000000   119.000000   \n",
       "50%    6059.000000       365.000000  248.000000   154.000000   \n",
       "75%    6085.000000       365.000000  295.000000   187.000000   \n",
       "max    6113.000000       365.000000  358.000000  4466.000000   \n",
       "\n",
       "       AQI 90th Percentile  AQI Median  \n",
       "count            53.000000   53.000000  \n",
       "mean             80.594340   45.292453  \n",
       "std              32.567542   15.517185  \n",
       "min              21.000000    9.500000  \n",
       "25%              58.000000   38.000000  \n",
       "50%              80.000000   43.000000  \n",
       "75%              93.000000   50.000000  \n",
       "max             164.000000   87.000000  "
      ]
     },
     "execution_count": 45,
     "metadata": {},
     "output_type": "execute_result"
    }
   ],
   "source": [
    "aqi.describe()"
   ]
  },
  {
   "cell_type": "markdown",
   "metadata": {},
   "source": [
    "### Exploratory Data Analysis(AQI)"
   ]
  },
  {
   "cell_type": "code",
   "execution_count": 46,
   "metadata": {},
   "outputs": [
    {
     "name": "stderr",
     "output_type": "stream",
     "text": [
      "/tmp/ipykernel_199/1774364772.py:4: UserWarning: FixedFormatter should only be used together with FixedLocator\n",
      "  ax.set_xticklabels(aqi['County'], rotation = 70);\n"
     ]
    },
    {
     "data": {
      "image/png": "[encoded data removed]",
      "text/plain": [
       "<Figure size 432x288 with 1 Axes>"
      ]
     },
     "metadata": {
      "needs_background": "light"
     },
     "output_type": "display_data"
    }
   ],
   "source": [
    "#style.use('fivethirtyeight')\n",
    "aqi['County'] = aqi['County'].apply(standardize_region)\n",
    "ax = sns.lineplot(x ='County',y = 'AQI Median', data = aqi)\n",
    "ax.set_xticklabels(aqi['County'], rotation = 70);\n"
   ]
  },
  {
   "cell_type": "markdown",
   "metadata": {},
   "source": [
    "The plot we shows that all county have moderate or good AQI value. Some counties have good AQI value (0-50), while some counties have moderate AQI value (50-100)."
   ]
  },
  {
   "cell_type": "code",
   "execution_count": null,
   "metadata": {},
   "outputs": [],
   "source": [
    "aqi_unhealthy = aqi[aqi['Unhealthy for Sensitive Groups'] != '.']\n",
    "aqi_unhealthy['Unhealthy for Sensitive Groups'] = aqi_unhealthy['Unhealthy for Sensitive Groups'].astype(int)\n",
    "ax = sns.lineplot(x ='County',y = 'Unhealthy for Sensitive Groups', data = aqi_unhealthy)\n",
    "ax.set_xticklabels(aqi['County'], rotation = 70);"
   ]
  },
  {
   "cell_type": "code",
   "execution_count": null,
   "metadata": {},
   "outputs": [],
   "source": []
  }
 ],
 "metadata": {
  "kernelspec": {
   "display_name": "Python 3 (ipykernel)",
   "language": "python",
   "name": "python3"
  },
  "language_info": {
   "codemirror_mode": {
    "name": "ipython",
    "version": 3
   },
   "file_extension": ".py",
   "mimetype": "text/x-python",
   "name": "python",
   "nbconvert_exporter": "python",
   "pygments_lexer": "ipython3",
   "version": "3.9.5"
  }
 },
 "nbformat": 4,
 "nbformat_minor": 2
}
