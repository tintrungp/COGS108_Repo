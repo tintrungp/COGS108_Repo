{
 "cells": [
  {
   "cell_type": "markdown",
   "metadata": {},
   "source": [
    "# COGS 108 - EDA Checkpoint"
   ]
  },
  {
   "cell_type": "markdown",
   "metadata": {},
   "source": [
    "# Names\n",
    "\n",
    "- Nilou Shahbandi\n",
    "- Leonardo Gonzalez\n",
    "- Brian Chen\n",
    "- Tin-Trung Pham\n",
    "- Zhongkang(ken) Fang"
   ]
  },
  {
   "cell_type": "markdown",
   "metadata": {},
   "source": [
    "<a id='research_question'></a>\n",
    "# Research Question"
   ]
  },
  {
   "cell_type": "markdown",
   "metadata": {},
   "source": [
    "*How do different pollutants in California impact the rate of cancer in individuals, and how does pollutants affect rate of Asthma?*"
   ]
  },
  {
   "cell_type": "markdown",
   "metadata": {},
   "source": [
    "# Setup"
   ]
  },
  {
   "cell_type": "code",
   "execution_count": null,
   "metadata": {},
   "outputs": [],
   "source": [
    "## YOUR CODE HERE\n",
    "import pandas as pd \n",
    "import numpy as np\n",
    "import matplotlib.pyplot as plt\n",
    "import matplotlib.style as style\n",
    "\n",
    "import seaborn as sns\n",
    "\n"
   ]
  },
  {
   "cell_type": "code",
   "execution_count": null,
   "metadata": {},
   "outputs": [],
   "source": [
    "aqi_2010 = pd.read_csv('data/aqireport2010.csv')\n",
    "county_cancer = pd.read_csv('data/countyCancer.csv')\n",
    "asthma = asthma = pd.read_csv('data/Asthma.csv')"
   ]
  },
  {
   "cell_type": "markdown",
   "metadata": {},
   "source": [
    "# Data Cleaning"
   ]
  },
  {
   "cell_type": "markdown",
   "metadata": {},
   "source": [
    "Describe your data cleaning steps here."
   ]
  },
  {
   "cell_type": "code",
   "execution_count": null,
   "metadata": {},
   "outputs": [],
   "source": [
    "## YOUR CODE HERE\n",
    "## FEEL FREE TO ADD MULTIPLE CELLS PER SECTION"
   ]
  },
  {
   "cell_type": "code",
   "execution_count": null,
   "metadata": {},
   "outputs": [],
   "source": [
    "# Data cleaning for AQI_2010\n",
    "\n",
    "def standardize_region(str_in):\n",
    "    \n",
    "    try:\n",
    "        str_in = str_in.lower()\n",
    "        str_in = str_in.strip()\n",
    "        output = str_in\n",
    "\n",
    "        if 'county, ca' in str_in:\n",
    "            str_in = str_in.replace('county, ca', '')\n",
    "            str_in = str_in.strip()\n",
    "            output = str_in\n",
    "            \n",
    "        if 'county' in str_in:\n",
    "            str_in = str_in.replace('county', '')\n",
    "            str_in = str_in.strip()\n",
    "            output = str_in\n",
    "            \n",
    "            \n",
    "    except:\n",
    "        output = np.nan\n",
    "        \n",
    "    return output\n",
    "\n"
   ]
  },
  {
   "cell_type": "code",
   "execution_count": null,
   "metadata": {},
   "outputs": [],
   "source": [
    "# Data cleaning for AQI_2010 continued\n",
    "aqi_2010.drop(['# Days with AQI', 'Moderate', 'Unhealthy', 'Very Unhealthy', 'County Code',\n",
    "                'Hazardous', 'AQI Maximum', '# Days CO', '# Days NO2', '# Days O3', '# Days PM2.5', '# Days PM10'  ], \n",
    "                 inplace = True, axis=1)\n",
    "aqi_2010.columns = ['county', 'Good days', 'Unhealthy days', 'AQI 90th Percentile', 'AQI Median']\n",
    "aqi_2010['county'] = aqi_2010['county'].apply(standardize_region)\n",
    "aqi_2010.head()"
   ]
  },
  {
   "cell_type": "code",
   "execution_count": null,
   "metadata": {},
   "outputs": [],
   "source": [
    "# Data Cleaning for county_cancer_2010\n",
    "# filter year 2010\n",
    "county_cancer_2010 = county_cancer[county_cancer['Year'] == 2010]\n",
    "county_cancer_2010 = county_cancer_2010[county_cancer_2010['Age'] == 'All Ages']\n",
    "county_cancer_2010.drop(['Sex', 'Race/Ethnicity', 'Age', 'Stage at Diagnosis', 'Age-adjusted Rate Standard Error', 'Year',\n",
    "                         'Age-adjusted Rate Lower Confidence Interval', 'Age-adjusted Rate Upper Confidence Interval'], \n",
    "                 inplace = True, axis=1)\n",
    "county_cancer_2010['California Region'] = county_cancer_2010['California Region'].apply(standardize_region)\n",
    "county_cancer_2010.columns = ['county', 'rate per 100,000', 'count']\n",
    "county_cancer_2010.head()"
   ]
  },
  {
   "cell_type": "code",
   "execution_count": null,
   "metadata": {},
   "outputs": [],
   "source": [
    "county_cancer_2010.dtypes\n",
    "county_cancer_2010['rate per 100,000'] = county_cancer_2010['rate per 100,000'].astype(float)\n",
    "county_cancer_2010['count'] = county_cancer_2010['count'].astype(int)"
   ]
  },
  {
   "cell_type": "code",
   "execution_count": null,
   "metadata": {},
   "outputs": [],
   "source": [
    "# combine aqi and cancer data\n",
    "# year: 2010\n",
    "\n",
    "# drop the county with combined cancer value\n",
    "# we drop them instead of taking the average because there are significant differences for the AQI values \n",
    "county_cancer_2010 = county_cancer_2010.drop(county_cancer_2010.index[39:47])\n",
    "\n",
    "\n",
    "aqi_cancer_2010 = pd.merge(county_cancer_2010, aqi_2010, on='county')\n",
    "aqi_cancer_2010.head()"
   ]
  },
  {
   "cell_type": "code",
   "execution_count": null,
   "metadata": {},
   "outputs": [],
   "source": [
    "def standardize_region(str_in):\n",
    "    \n",
    "    try:\n",
    "        str_in = str_in.lower()\n",
    "        str_in = str_in.strip()\n",
    "        output = str_in\n",
    "\n",
    "        if 'county, ca' in str_in:\n",
    "            str_in = str_in.replace('county, ca', '')\n",
    "            str_in = str_in.strip()\n",
    "            output = str_in\n",
    "            \n",
    "        if 'county' in str_in:\n",
    "            str_in = str_in.replace('county', '')\n",
    "            str_in = str_in.strip()\n",
    "            output = str_in\n",
    "            \n",
    "            \n",
    "    except:\n",
    "        output = np.nan\n",
    "        \n",
    "    return output"
   ]
  },
  {
   "cell_type": "code",
   "execution_count": null,
   "metadata": {
    "scrolled": true
   },
   "outputs": [],
   "source": [
    "# data cleaning for asthma \n",
    "asthma.columns = asthma.columns.str.lower()\n",
    "\n",
    "asthma = asthma.rename(columns={\"childcount\": \"child\", \"percent\": \"child_percent\", \"adultcount\": \"adult\",'percent.1': 'adult_percent'})\n",
    "\n",
    "asthma = asthma.fillna(2018)\n",
    "asthma[\"year\"] = asthma[\"year\"].astype(int)"
   ]
  },
  {
   "cell_type": "code",
   "execution_count": null,
   "metadata": {
    "scrolled": true
   },
   "outputs": [],
   "source": [
    "asthma.dtypes"
   ]
  },
  {
   "cell_type": "code",
   "execution_count": null,
   "metadata": {},
   "outputs": [],
   "source": [
    "# taking out commas and percent signs\n",
    "asthma['child']= asthma['child'].str.replace(',', '')\n",
    "asthma['adult']= asthma['adult'].str.replace(',', '')\n",
    "asthma['child_percent']= asthma['child_percent'].str.replace('%', '')\n",
    "asthma['adult_percent']= asthma['adult_percent'].str.replace('%', '')\n",
    "\n",
    "# function to remove empty values\n",
    "def standardize_asthma(string):\n",
    "    if string == '---':\n",
    "        string = np.nan\n",
    "\n",
    "    return string"
   ]
  },
  {
   "cell_type": "code",
   "execution_count": null,
   "metadata": {},
   "outputs": [],
   "source": [
    "asthma['child'] = asthma['child'].apply(standardize_asthma)\n",
    "asthma = asthma.dropna(subset=['child'])\n",
    "\n",
    "asthma.head()"
   ]
  },
  {
   "cell_type": "code",
   "execution_count": null,
   "metadata": {},
   "outputs": [],
   "source": [
    "# converting from string to a float\n",
    "asthma['child']= asthma['child'].astype(float)\n",
    "asthma['adult']= asthma['adult'].astype(float)\n",
    "asthma['child_percent']= asthma['child_percent'].astype(float)\n",
    "asthma['adult_percent']= asthma['adult_percent'].astype(float)\n",
    "asthma.head()"
   ]
  },
  {
   "cell_type": "markdown",
   "metadata": {},
   "source": [
    "# Data Analysis & Results (EDA)"
   ]
  },
  {
   "cell_type": "markdown",
   "metadata": {},
   "source": [
    "Carry out EDA on your dataset(s); Describe in this section"
   ]
  },
  {
   "cell_type": "markdown",
   "metadata": {},
   "source": [
    "### Descriptive Data Analysis (Asthma)"
   ]
  },
  {
   "cell_type": "code",
   "execution_count": null,
   "metadata": {
    "scrolled": true
   },
   "outputs": [],
   "source": [
    "asthma.describe()"
   ]
  },
  {
   "cell_type": "code",
   "execution_count": null,
   "metadata": {
    "scrolled": true
   },
   "outputs": [],
   "source": [
    "asthma.groupby('year').describe()"
   ]
  },
  {
   "cell_type": "markdown",
   "metadata": {},
   "source": [
    "We can see that the majority of the data pertains to 2018, so if there are differences in asthma rates by year, it's important to keep the differences of the amount of data between years in mind."
   ]
  },
  {
   "cell_type": "markdown",
   "metadata": {},
   "source": [
    "### Exploratory Data Analysis (Asthma)"
   ]
  },
  {
   "cell_type": "code",
   "execution_count": null,
   "metadata": {
    "scrolled": true
   },
   "outputs": [],
   "source": [
    "sns.set(rc = {'figure.figsize':(15,8)})\n",
    "fig1 = sns.barplot(x ='state', y = 'child', data = asthma)\n",
    "fig1.set_xticklabels(asthma['state'], rotation = 70);"
   ]
  },
  {
   "cell_type": "code",
   "execution_count": null,
   "metadata": {
    "scrolled": true
   },
   "outputs": [],
   "source": [
    "sns.set(rc = {'figure.figsize':(15,8)})\n",
    "fig2 = sns.barplot(x ='state', y = 'adult', data = asthma)\n",
    "fig2.set_xticklabels(asthma['state'], rotation = 70);"
   ]
  },
  {
   "cell_type": "markdown",
   "metadata": {},
   "source": [
    "California and Texas have the highest counts of asthma in both children and adults, followed by New York, Florida, and Michigan. It makes sense that California, Texas, New York, and Florida are among the top, given that they are the four most populous states, but there may more to investigate in Michigan."
   ]
  },
  {
   "cell_type": "code",
   "execution_count": null,
   "metadata": {},
   "outputs": [],
   "source": [
    "sns.set(rc = {'figure.figsize':(13,6)})\n",
    "fig3 = sns.lineplot(x ='year',y = 'adult', data = asthma)\n",
    "fig3.set_xticklabels(asthma['year'], rotation = 70);"
   ]
  },
  {
   "cell_type": "code",
   "execution_count": null,
   "metadata": {},
   "outputs": [],
   "source": [
    "sns.set(rc = {'figure.figsize':(15,8)})\n",
    "fig4 = sns.lineplot(x ='year',y = 'child', data = asthma)\n",
    "fig4.set_xticklabels(asthma['year'], rotation = 70);"
   ]
  },
  {
   "cell_type": "markdown",
   "metadata": {},
   "source": [
    "The graphs show a spike in asthma rates in 2018, but again it's important to remember that most of the data pertained to 2018, which is most likely causing the spike."
   ]
  },
  {
   "cell_type": "markdown",
   "metadata": {},
   "source": [
    "### Descriptive Data Analysis (Cancer)"
   ]
  },
  {
   "cell_type": "code",
   "execution_count": null,
   "metadata": {},
   "outputs": [],
   "source": [
    "county_cancer_2010.shape"
   ]
  },
  {
   "cell_type": "markdown",
   "metadata": {},
   "source": [
    "In this data set from 2010, it lists the rates and counts of lung and bronchus cancer from counties in California. However, due to small sample sizes in certain counties, 39 counties are listed in this dataset."
   ]
  },
  {
   "cell_type": "code",
   "execution_count": null,
   "metadata": {},
   "outputs": [],
   "source": [
    "county_cancer_2010.describe()"
   ]
  },
  {
   "cell_type": "markdown",
   "metadata": {},
   "source": [
    "Across these 39 listed counties, we can see that the mean cancer rate is 50.2 cases per 100,000 people. This equates roughly to 417 individuals. It's important to note that there is a small standard deviation in the number of cases (8.5) but a large deviation in the counts (636). "
   ]
  },
  {
   "cell_type": "markdown",
   "metadata": {},
   "source": [
    "### Exploratory Data Analysis (Cancer)"
   ]
  },
  {
   "cell_type": "code",
   "execution_count": null,
   "metadata": {},
   "outputs": [],
   "source": [
    "county_cancer_all = pd.read_csv('data/countyCancer.csv')\n",
    "county_cancer_all = county_cancer_all[county_cancer_all['Age'] == 'All Ages']\n",
    "county_cancer_all.drop(['Sex', 'Race/Ethnicity', 'Age', 'Stage at Diagnosis', 'Age-adjusted Rate Standard Error',\n",
    "                         'Age-adjusted Rate Lower Confidence Interval', 'Age-adjusted Rate Upper Confidence Interval'], \n",
    "                 inplace = True, axis=1)\n",
    "county_cancer_all['California Region'] = county_cancer_all['California Region'].apply(standardize_region)\n",
    "county_cancer_all.columns = ['year','county', 'rate per 100,000', 'count']\n",
    "county_cancer_all.head()\n",
    "county_cancer_all.dtypes\n",
    "county_cancer_all = county_cancer_all[county_cancer_all['rate per 100,000'] != 'a']\n",
    "county_cancer_all['rate per 100,000'] = county_cancer_all['rate per 100,000'].astype(float)\n",
    "county_cancer_all['count'] = county_cancer_all['count'].astype(int)\n",
    "county_cancer_all.describe()\n",
    "county_all = county_cancer_all.groupby(\"county\").count()\n",
    "county_all\n",
    "sns.lineplot(x='year', y='rate per 100,000', hue='county', data=county_cancer_all)"
   ]
  },
  {
   "cell_type": "code",
   "execution_count": null,
   "metadata": {},
   "outputs": [],
   "source": [
    "county_cancer_2010.head()"
   ]
  },
  {
   "cell_type": "code",
   "execution_count": null,
   "metadata": {},
   "outputs": [],
   "source": [
    "sns.set(rc = {'figure.figsize':(15,8)})\n",
    "cc_2010_plot = sns.barplot(x ='county',y = 'rate per 100,000', data = county_cancer_2010)\n",
    "cc_2010_plot.set_xticklabels(county_cancer_2010['county'], rotation = 70);"
   ]
  },
  {
   "cell_type": "markdown",
   "metadata": {},
   "source": [
    "It is nice to see that generally across the 39 listed counties, the rates are relatively close. There are noticeable outliers in our data, but it is clear a few counties such as Butte, Lake, San Joaquin, and Stanislaus rank among the highest in cancer rate."
   ]
  },
  {
   "cell_type": "code",
   "execution_count": null,
   "metadata": {},
   "outputs": [],
   "source": [
    "sns.set(rc = {'figure.figsize':(15,8)})\n",
    "cc_2010_count_plot = sns.barplot(x ='county',y = 'count', data = county_cancer_2010)\n",
    "cc_2010_count_plot.set_xticklabels(county_cancer_2010['county'], rotation = 70);"
   ]
  },
  {
   "cell_type": "markdown",
   "metadata": {},
   "source": [
    "From this plot, we can see that Los Angeles has a lung and bronchus cancer rate that skyrockets far above the other counties. However, it's rate is not sur"
   ]
  },
  {
   "cell_type": "markdown",
   "metadata": {},
   "source": [
    "### Descriptive Data Analysis(AQI)\n"
   ]
  },
  {
   "cell_type": "code",
   "execution_count": null,
   "metadata": {},
   "outputs": [],
   "source": [
    "aqi = pd.read_csv('data/aqireport2010.csv')\n",
    "aqi.head()"
   ]
  },
  {
   "cell_type": "markdown",
   "metadata": {},
   "source": [
    "<br />\n",
    "We have a dataset from 53 different counties In California. Across these counties, the mean number of days in the year having AQI value 0 through 50 is 221.9 days. <br /><br />The median AQI value is 45.29. <br />\n",
    "90% of  daily AQI values during the year were less or equal to 80.59.\n",
    "\n",
    "<br />"
   ]
  },
  {
   "cell_type": "code",
   "execution_count": null,
   "metadata": {},
   "outputs": [],
   "source": [
    "aqi.describe()"
   ]
  },
  {
   "cell_type": "markdown",
   "metadata": {},
   "source": [
    "### Exploratory Data Analysis(AQI)"
   ]
  },
  {
   "cell_type": "code",
   "execution_count": null,
   "metadata": {},
   "outputs": [],
   "source": [
    "#style.use('fivethirtyeight')\n",
    "sns.set(rc = {'figure.figsize':(15,8)})\n",
    "aqi['County'] = aqi['County'].apply(standardize_region)\n",
    "ax = sns.lineplot(x ='County',y = 'AQI Median', data = aqi)\n",
    "ax.set_xticklabels(aqi['County'], rotation = 70);\n"
   ]
  },
  {
   "cell_type": "markdown",
   "metadata": {},
   "source": [
    "The plot we shows that all county have moderate or good AQI value. Some counties have good AQI value (0-50), while some counties have moderate AQI value (50-100)."
   ]
  },
  {
   "cell_type": "code",
   "execution_count": null,
   "metadata": {},
   "outputs": [],
   "source": [
    "aqi_unhealthy = aqi[aqi['Unhealthy for Sensitive Groups'] != '.']\n",
    "aqi_unhealthy['Unhealthy for Sensitive Groups'] = aqi_unhealthy['Unhealthy for Sensitive Groups'].astype(int)\n",
    "ax = sns.lineplot(x ='County',y = 'Unhealthy for Sensitive Groups', data = aqi_unhealthy)\n",
    "ax.set_xticklabels(aqi['County'], rotation = 70);\n",
    "sns.set(rc = {'figure.figsize':(15,8)})"
   ]
  },
  {
   "cell_type": "markdown",
   "metadata": {},
   "source": [
    "In the county Inyo, 27% days of a year are unhealthy for sensity group, and in some counties like Siskiyou, colusa etc only have few unhealth days within a year. "
   ]
  }
 ],
 "metadata": {
  "kernelspec": {
   "display_name": "Python 3 (ipykernel)",
   "language": "python",
   "name": "python3"
  },
  "language_info": {
   "codemirror_mode": {
    "name": "ipython",
    "version": 3
   },
   "file_extension": ".py",
   "mimetype": "text/x-python",
   "name": "python",
   "nbconvert_exporter": "python",
   "pygments_lexer": "ipython3",
   "version": "3.9.5"
  }
 },
 "nbformat": 4,
 "nbformat_minor": 2
}
